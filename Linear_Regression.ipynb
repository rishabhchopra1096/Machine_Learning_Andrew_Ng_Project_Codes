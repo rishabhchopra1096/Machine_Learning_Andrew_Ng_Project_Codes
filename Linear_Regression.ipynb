{
 "cells": [
  {
   "cell_type": "markdown",
   "metadata": {},
   "source": []
  },
  {
   "cell_type": "code",
   "execution_count": 1,
   "metadata": {
    "collapsed": true
   },
   "outputs": [],
   "source": [
    "import numpy as np\n",
    "import pandas as pd\n",
    "import matplotlib.pyplot as plt\n",
    "%matplotlib inline"
   ]
  },
  {
   "cell_type": "code",
   "execution_count": 2,
   "metadata": {},
   "outputs": [
    {
     "data": {
      "text/html": [
       "<div>\n",
       "<style>\n",
       "    .dataframe thead tr:only-child th {\n",
       "        text-align: right;\n",
       "    }\n",
       "\n",
       "    .dataframe thead th {\n",
       "        text-align: left;\n",
       "    }\n",
       "\n",
       "    .dataframe tbody tr th {\n",
       "        vertical-align: top;\n",
       "    }\n",
       "</style>\n",
       "<table border=\"1\" class=\"dataframe\">\n",
       "  <thead>\n",
       "    <tr style=\"text-align: right;\">\n",
       "      <th></th>\n",
       "      <th>Population</th>\n",
       "      <th>Profit</th>\n",
       "    </tr>\n",
       "  </thead>\n",
       "  <tbody>\n",
       "    <tr>\n",
       "      <th>0</th>\n",
       "      <td>6.1101</td>\n",
       "      <td>17.5920</td>\n",
       "    </tr>\n",
       "    <tr>\n",
       "      <th>1</th>\n",
       "      <td>5.5277</td>\n",
       "      <td>9.1302</td>\n",
       "    </tr>\n",
       "    <tr>\n",
       "      <th>2</th>\n",
       "      <td>8.5186</td>\n",
       "      <td>13.6620</td>\n",
       "    </tr>\n",
       "    <tr>\n",
       "      <th>3</th>\n",
       "      <td>7.0032</td>\n",
       "      <td>11.8540</td>\n",
       "    </tr>\n",
       "    <tr>\n",
       "      <th>4</th>\n",
       "      <td>5.8598</td>\n",
       "      <td>6.8233</td>\n",
       "    </tr>\n",
       "  </tbody>\n",
       "</table>\n",
       "</div>"
      ],
      "text/plain": [
       "   Population   Profit\n",
       "0      6.1101  17.5920\n",
       "1      5.5277   9.1302\n",
       "2      8.5186  13.6620\n",
       "3      7.0032  11.8540\n",
       "4      5.8598   6.8233"
      ]
     },
     "execution_count": 2,
     "metadata": {},
     "output_type": "execute_result"
    }
   ],
   "source": [
    "import os\n",
    "path = os.path.join(os.getcwd(),\"data\",\"ex1data1.txt\")\n",
    "data = pd.read_csv(path, header = None, \n",
    "                   names = [\"Population\", \"Profit\"])\n",
    "data.head()"
   ]
  },
  {
   "cell_type": "code",
   "execution_count": 3,
   "metadata": {},
   "outputs": [
    {
     "data": {
      "text/plain": [
       "((97, 2), (2, 1), (97, 1))"
      ]
     },
     "execution_count": 3,
     "metadata": {},
     "output_type": "execute_result"
    }
   ],
   "source": [
    "data = data.values\n",
    "population = data[:,0]\n",
    "y = data[:,1].reshape(-1,1)\n",
    "theta = np.random.randn(2,1)\n",
    "X = np.c_[np.ones(len(population)), population]\n",
    "X.shape, theta.shape, y.shape"
   ]
  },
  {
   "cell_type": "code",
   "execution_count": 4,
   "metadata": {},
   "outputs": [
    {
     "data": {
      "text/plain": [
       "array([[-0.66423927],\n",
       "       [-1.01862589]])"
      ]
     },
     "execution_count": 4,
     "metadata": {},
     "output_type": "execute_result"
    }
   ],
   "source": [
    "theta"
   ]
  },
  {
   "cell_type": "code",
   "execution_count": 5,
   "metadata": {
    "collapsed": true
   },
   "outputs": [],
   "source": [
    "def MSE(y_pred,y):\n",
    "    sum_errors_sq = np.sum((y_pred - y)**2)\n",
    "    return sum_errors_sq/(2*len(y))"
   ]
  },
  {
   "cell_type": "code",
   "execution_count": 6,
   "metadata": {},
   "outputs": [
    {
     "data": {
      "text/plain": [
       "(150.47090665984672, 12.266658333052515, (97, 1))"
      ]
     },
     "execution_count": 6,
     "metadata": {},
     "output_type": "execute_result"
    }
   ],
   "source": [
    "y_pred = np.dot(X,theta)\n",
    "mse = MSE(y_pred,y)\n",
    "rmse = np.sqrt(mse)\n",
    "mse, rmse, y_pred.shape"
   ]
  },
  {
   "cell_type": "markdown",
   "metadata": {},
   "source": [
    "Gradient Descent Formula:\n",
    "    - theta:= theta - learnrate*\n",
    "    \n",
    "for iteration in range(n_iterations):\n",
    "    find predictions\n",
    "    theta"
   ]
  },
  {
   "cell_type": "code",
   "execution_count": 7,
   "metadata": {
    "collapsed": true
   },
   "outputs": [],
   "source": [
    "# cost_list = []\n",
    "# n_iterations = 1000\n",
    "# eta = 0.01\n",
    "\n",
    "# for iteration in range(n_iterations):\n",
    "#     y_pred = X.dot(theta)\n",
    "#     cost = np.sqrt(MSE(y_pred,y))\n",
    "#     cost_list.append(cost)\n",
    "#     error = y_pred - y\n",
    "#     temp = np.matrix(np.zeros(theta.shape))\n",
    "#     for weight_i in range(len(theta)):\n",
    "#         weight_step = np.sum(error*X[:,weight_i])\n",
    "#         temp[0,weight_i] = weight_i - (eta/len(y))*weight_step\n",
    "#     y_pred = X.dot(theta)\n",
    "    \n",
    "# plt.plot(list(range(n_iterations)), cost_list)"
   ]
  },
  {
   "cell_type": "code",
   "execution_count": 8,
   "metadata": {},
   "outputs": [
    {
     "data": {
      "text/plain": [
       "array([[-0.66423927],\n",
       "       [-1.01862589]])"
      ]
     },
     "execution_count": 8,
     "metadata": {},
     "output_type": "execute_result"
    }
   ],
   "source": [
    "theta"
   ]
  },
  {
   "cell_type": "code",
   "execution_count": 9,
   "metadata": {},
   "outputs": [
    {
     "data": {
      "text/plain": [
       "150.47090665984672"
      ]
     },
     "execution_count": 9,
     "metadata": {},
     "output_type": "execute_result"
    }
   ],
   "source": [
    "MSE(X.dot(theta), y)"
   ]
  },
  {
   "cell_type": "markdown",
   "metadata": {},
   "source": [
    "# Univariate Linear Regression: "
   ]
  },
  {
   "cell_type": "code",
   "execution_count": 10,
   "metadata": {},
   "outputs": [
    {
     "data": {
      "text/html": [
       "<div>\n",
       "<style>\n",
       "    .dataframe thead tr:only-child th {\n",
       "        text-align: right;\n",
       "    }\n",
       "\n",
       "    .dataframe thead th {\n",
       "        text-align: left;\n",
       "    }\n",
       "\n",
       "    .dataframe tbody tr th {\n",
       "        vertical-align: top;\n",
       "    }\n",
       "</style>\n",
       "<table border=\"1\" class=\"dataframe\">\n",
       "  <thead>\n",
       "    <tr style=\"text-align: right;\">\n",
       "      <th></th>\n",
       "      <th>Population</th>\n",
       "      <th>Profit</th>\n",
       "    </tr>\n",
       "  </thead>\n",
       "  <tbody>\n",
       "    <tr>\n",
       "      <th>0</th>\n",
       "      <td>6.1101</td>\n",
       "      <td>17.5920</td>\n",
       "    </tr>\n",
       "    <tr>\n",
       "      <th>1</th>\n",
       "      <td>5.5277</td>\n",
       "      <td>9.1302</td>\n",
       "    </tr>\n",
       "    <tr>\n",
       "      <th>2</th>\n",
       "      <td>8.5186</td>\n",
       "      <td>13.6620</td>\n",
       "    </tr>\n",
       "    <tr>\n",
       "      <th>3</th>\n",
       "      <td>7.0032</td>\n",
       "      <td>11.8540</td>\n",
       "    </tr>\n",
       "    <tr>\n",
       "      <th>4</th>\n",
       "      <td>5.8598</td>\n",
       "      <td>6.8233</td>\n",
       "    </tr>\n",
       "  </tbody>\n",
       "</table>\n",
       "</div>"
      ],
      "text/plain": [
       "   Population   Profit\n",
       "0      6.1101  17.5920\n",
       "1      5.5277   9.1302\n",
       "2      8.5186  13.6620\n",
       "3      7.0032  11.8540\n",
       "4      5.8598   6.8233"
      ]
     },
     "execution_count": 10,
     "metadata": {},
     "output_type": "execute_result"
    }
   ],
   "source": [
    "path = os.path.join(os.getcwd(),\"data\",\"ex1data1.txt\")\n",
    "data = pd.read_csv(path, header = None, \n",
    "                   names = [\"Population\", \"Profit\"])\n",
    "data.head()"
   ]
  },
  {
   "cell_type": "code",
   "execution_count": 11,
   "metadata": {},
   "outputs": [
    {
     "data": {
      "text/html": [
       "<div>\n",
       "<style>\n",
       "    .dataframe thead tr:only-child th {\n",
       "        text-align: right;\n",
       "    }\n",
       "\n",
       "    .dataframe thead th {\n",
       "        text-align: left;\n",
       "    }\n",
       "\n",
       "    .dataframe tbody tr th {\n",
       "        vertical-align: top;\n",
       "    }\n",
       "</style>\n",
       "<table border=\"1\" class=\"dataframe\">\n",
       "  <thead>\n",
       "    <tr style=\"text-align: right;\">\n",
       "      <th></th>\n",
       "      <th>Population</th>\n",
       "      <th>Profit</th>\n",
       "    </tr>\n",
       "  </thead>\n",
       "  <tbody>\n",
       "    <tr>\n",
       "      <th>count</th>\n",
       "      <td>97.000000</td>\n",
       "      <td>97.000000</td>\n",
       "    </tr>\n",
       "    <tr>\n",
       "      <th>mean</th>\n",
       "      <td>8.159800</td>\n",
       "      <td>5.839135</td>\n",
       "    </tr>\n",
       "    <tr>\n",
       "      <th>std</th>\n",
       "      <td>3.869884</td>\n",
       "      <td>5.510262</td>\n",
       "    </tr>\n",
       "    <tr>\n",
       "      <th>min</th>\n",
       "      <td>5.026900</td>\n",
       "      <td>-2.680700</td>\n",
       "    </tr>\n",
       "    <tr>\n",
       "      <th>25%</th>\n",
       "      <td>5.707700</td>\n",
       "      <td>1.986900</td>\n",
       "    </tr>\n",
       "    <tr>\n",
       "      <th>50%</th>\n",
       "      <td>6.589400</td>\n",
       "      <td>4.562300</td>\n",
       "    </tr>\n",
       "    <tr>\n",
       "      <th>75%</th>\n",
       "      <td>8.578100</td>\n",
       "      <td>7.046700</td>\n",
       "    </tr>\n",
       "    <tr>\n",
       "      <th>max</th>\n",
       "      <td>22.203000</td>\n",
       "      <td>24.147000</td>\n",
       "    </tr>\n",
       "  </tbody>\n",
       "</table>\n",
       "</div>"
      ],
      "text/plain": [
       "       Population     Profit\n",
       "count   97.000000  97.000000\n",
       "mean     8.159800   5.839135\n",
       "std      3.869884   5.510262\n",
       "min      5.026900  -2.680700\n",
       "25%      5.707700   1.986900\n",
       "50%      6.589400   4.562300\n",
       "75%      8.578100   7.046700\n",
       "max     22.203000  24.147000"
      ]
     },
     "execution_count": 11,
     "metadata": {},
     "output_type": "execute_result"
    }
   ],
   "source": [
    "data.describe()"
   ]
  },
  {
   "cell_type": "markdown",
   "metadata": {},
   "source": [
    "Let's plot the data to get a better idea of what the data looks like: "
   ]
  },
  {
   "cell_type": "code",
   "execution_count": 12,
   "metadata": {},
   "outputs": [
    {
     "data": {
      "text/plain": [
       "<matplotlib.axes._subplots.AxesSubplot at 0x107391d68>"
      ]
     },
     "execution_count": 12,
     "metadata": {},
     "output_type": "execute_result"
    },
    {
     "data": {
      "image/png": "[encoded data removed]",
      "text/plain": [
       "<matplotlib.figure.Figure at 0x10f216198>"
      ]
     },
     "metadata": {},
     "output_type": "display_data"
    }
   ],
   "source": [
    "data.plot(kind = \"scatter\", x = \"Population\", y = \"Profit\")"
   ]
  },
  {
   "cell_type": "code",
   "execution_count": 13,
   "metadata": {
    "collapsed": true
   },
   "outputs": [],
   "source": [
    "def compute_cost(X, y, theta):\n",
    "    sum_squared_errors = np.sum((X.dot(theta.T) - y)**2)\n",
    "    return sum_squared_errors/(2*len(y))"
   ]
  },
  {
   "cell_type": "markdown",
   "metadata": {},
   "source": [
    "Adding a comlum of ones to the training set so we can use a vectorized solution to computing the cost and gradients: \n"
   ]
  },
  {
   "cell_type": "code",
   "execution_count": 14,
   "metadata": {},
   "outputs": [
    {
     "data": {
      "text/html": [
       "<div>\n",
       "<style>\n",
       "    .dataframe thead tr:only-child th {\n",
       "        text-align: right;\n",
       "    }\n",
       "\n",
       "    .dataframe thead th {\n",
       "        text-align: left;\n",
       "    }\n",
       "\n",
       "    .dataframe tbody tr th {\n",
       "        vertical-align: top;\n",
       "    }\n",
       "</style>\n",
       "<table border=\"1\" class=\"dataframe\">\n",
       "  <thead>\n",
       "    <tr style=\"text-align: right;\">\n",
       "      <th></th>\n",
       "      <th>Ones</th>\n",
       "      <th>Population</th>\n",
       "      <th>Profit</th>\n",
       "    </tr>\n",
       "  </thead>\n",
       "  <tbody>\n",
       "    <tr>\n",
       "      <th>0</th>\n",
       "      <td>1</td>\n",
       "      <td>6.1101</td>\n",
       "      <td>17.5920</td>\n",
       "    </tr>\n",
       "    <tr>\n",
       "      <th>1</th>\n",
       "      <td>1</td>\n",
       "      <td>5.5277</td>\n",
       "      <td>9.1302</td>\n",
       "    </tr>\n",
       "    <tr>\n",
       "      <th>2</th>\n",
       "      <td>1</td>\n",
       "      <td>8.5186</td>\n",
       "      <td>13.6620</td>\n",
       "    </tr>\n",
       "    <tr>\n",
       "      <th>3</th>\n",
       "      <td>1</td>\n",
       "      <td>7.0032</td>\n",
       "      <td>11.8540</td>\n",
       "    </tr>\n",
       "    <tr>\n",
       "      <th>4</th>\n",
       "      <td>1</td>\n",
       "      <td>5.8598</td>\n",
       "      <td>6.8233</td>\n",
       "    </tr>\n",
       "  </tbody>\n",
       "</table>\n",
       "</div>"
      ],
      "text/plain": [
       "   Ones  Population   Profit\n",
       "0     1      6.1101  17.5920\n",
       "1     1      5.5277   9.1302\n",
       "2     1      8.5186  13.6620\n",
       "3     1      7.0032  11.8540\n",
       "4     1      5.8598   6.8233"
      ]
     },
     "execution_count": 14,
     "metadata": {},
     "output_type": "execute_result"
    }
   ],
   "source": [
    "data.insert(0, \"Ones\", 1)\n",
    "data.head()"
   ]
  },
  {
   "cell_type": "code",
   "execution_count": 15,
   "metadata": {},
   "outputs": [
    {
     "data": {
      "text/plain": [
       "((97, 2), (97, 1))"
      ]
     },
     "execution_count": 15,
     "metadata": {},
     "output_type": "execute_result"
    }
   ],
   "source": [
    "X = data.iloc[:,:2].values\n",
    "y = data.iloc[:,2].values.reshape(-1,1)\n",
    "X.shape, y.shape"
   ]
  },
  {
   "cell_type": "code",
   "execution_count": 16,
   "metadata": {},
   "outputs": [
    {
     "data": {
      "text/plain": [
       "(array([[ 0.,  0.]]), (1, 2))"
      ]
     },
     "execution_count": 16,
     "metadata": {},
     "output_type": "execute_result"
    }
   ],
   "source": [
    "theta = np.zeros((1,2))\n",
    "theta, theta.shape"
   ]
  },
  {
   "cell_type": "markdown",
   "metadata": {},
   "source": [
    "- # Formula for Gradient Descent: \n",
    "    - # $\\theta_j := \\theta_j - \\eta\\frac{1}{m}\\sum_{i=1}^m(\\hat{y}^i - y^i)x_j^i$"
   ]
  },
  {
   "cell_type": "code",
   "execution_count": 17,
   "metadata": {
    "collapsed": true
   },
   "outputs": [],
   "source": [
    "# y_pred = X.dot(theta.T)\n",
    "# term = (y_pred-y)*X"
   ]
  },
  {
   "cell_type": "code",
   "execution_count": 18,
   "metadata": {
    "collapsed": true
   },
   "outputs": [],
   "source": [
    "# np.sum(term, axis = 0)\n",
    "# >> array([ -566.3961    , -6336.89842532])"
   ]
  },
  {
   "cell_type": "code",
   "execution_count": 19,
   "metadata": {
    "collapsed": true
   },
   "outputs": [],
   "source": [
    "# theta - np.sum(term, axis = 0)\n",
    "# >> array([[  566.3961    ,  6336.89842532]])"
   ]
  },
  {
   "cell_type": "code",
   "execution_count": 20,
   "metadata": {
    "collapsed": true
   },
   "outputs": [],
   "source": [
    "def gradientDescent(X,y, theta, eta, iters):\n",
    "    error_list = []\n",
    "    parameters = []\n",
    "    for i in range(iters):\n",
    "        # Calculate prediction with current parameters \n",
    "        y_pred = X.dot(theta.T)\n",
    "        # Calculate MSE\n",
    "        error = MSE(y_pred , y)\n",
    "        # and append it to the list of errors \n",
    "        error_list.append(error)\n",
    "        \n",
    "        # Multiply error with each x_i^j \n",
    "        # ∑(y^ - y).x_j^i\n",
    "        term = (y_pred-y)*X\n",
    "        term = np.sum(((y_pred-y)*X), axis = 0)\n",
    "        # Weight Update\n",
    "        theta = theta - (eta/len(X))*term\n",
    "        parameters.append(theta[0])\n",
    "        \n",
    "    return parameters, error_list, theta"
   ]
  },
  {
   "cell_type": "code",
   "execution_count": 21,
   "metadata": {},
   "outputs": [
    {
     "data": {
      "text/plain": [
       "array([[ 0.,  0.]])"
      ]
     },
     "execution_count": 21,
     "metadata": {},
     "output_type": "execute_result"
    }
   ],
   "source": [
    "theta"
   ]
  },
  {
   "cell_type": "code",
   "execution_count": 22,
   "metadata": {},
   "outputs": [
    {
     "data": {
      "text/plain": [
       "array([[-3.24140214,  1.1272942 ]])"
      ]
     },
     "execution_count": 22,
     "metadata": {},
     "output_type": "execute_result"
    }
   ],
   "source": [
    "parameters, error_list, theta = gradientDescent(X,y,theta, eta = 0.01,\n",
    "                                   iters = 1000)\n",
    "theta"
   ]
  },
  {
   "cell_type": "code",
   "execution_count": 23,
   "metadata": {},
   "outputs": [
    {
     "data": {
      "text/plain": [
       "[32.072733877455676,\n",
       " 6.7371904648700074,\n",
       " 5.9315935686049563,\n",
       " 5.9011547070813881,\n",
       " 5.8952285864442207,\n",
       " 5.8900949431173304,\n",
       " 5.885004158443647,\n",
       " 5.8799324804914184,\n",
       " 5.8748790947625746,\n",
       " 5.8698439118063863,\n",
       " 5.8648268653129305,\n",
       " 5.8598278899321814,\n",
       " 5.8548469205722897,\n",
       " 5.8498838923765879,\n",
       " 5.8449387407220339,\n",
       " 5.8400114012183613,\n",
       " 5.8351018097072265,\n",
       " 5.8302099022613882,\n",
       " 5.8253356151838629,\n",
       " 5.8204788850070992,\n",
       " 5.8156396484921542,\n",
       " 5.8108178426278698,\n",
       " 5.8060134046300442,\n",
       " 5.801226271940628,\n",
       " 5.7964563822268991,\n",
       " 5.7917036733806535,\n",
       " 5.7869680835173964,\n",
       " 5.7822495509755392,\n",
       " 5.7775480143155962,\n",
       " 5.7728634123193814,\n",
       " 5.7681956839892123,\n",
       " 5.7635447685471197,\n",
       " 5.7589106054340489,\n",
       " 5.7542931343090773,\n",
       " 5.7496922950486287,\n",
       " 5.7451080277456841,\n",
       " 5.7405402727090138,\n",
       " 5.7359889704623814,\n",
       " 5.7314540617437917,\n",
       " 5.7269354875047016,\n",
       " 5.7224331889092568,\n",
       " 5.7179471073335284,\n",
       " 5.7134771843647494,\n",
       " 5.7090233618005488,\n",
       " 5.7045855816481987,\n",
       " 5.7001637861238557,\n",
       " 5.6957579176518154,\n",
       " 5.6913679188637518,\n",
       " 5.6869937325979798,\n",
       " 5.6826353018987072,\n",
       " 5.6782925700152918,\n",
       " 5.6739654804015061,\n",
       " 5.6696539767147982,\n",
       " 5.6653580028155535,\n",
       " 5.6610775027663811,\n",
       " 5.6568124208313595,\n",
       " 5.6525627014753335,\n",
       " 5.6483282893631808,\n",
       " 5.6441091293590917,\n",
       " 5.6399051665258559,\n",
       " 5.6357163461241351,\n",
       " 5.6315426136117717,\n",
       " 5.6273839146430547,\n",
       " 5.6232401950680257,\n",
       " 5.6191114009317777,\n",
       " 5.6149974784737404,\n",
       " 5.6108983741269869,\n",
       " 5.6068140345175319,\n",
       " 5.6027444064636462,\n",
       " 5.5986894369751594,\n",
       " 5.5946490732527598,\n",
       " 5.5906232626873233,\n",
       " 5.5866119528592169,\n",
       " 5.5826150915376225,\n",
       " 5.5786326266798527,\n",
       " 5.5746645064306781,\n",
       " 5.5707106791216434,\n",
       " 5.5667710932704031,\n",
       " 5.5628456975800509,\n",
       " 5.558934440938442,\n",
       " 5.5550372724175432,\n",
       " 5.5511541412727547,\n",
       " 5.5472849969422562,\n",
       " 5.5434297890463515,\n",
       " 5.5395884673868077,\n",
       " 5.5357609819462041,\n",
       " 5.5319472828872742,\n",
       " 5.5281473205522706,\n",
       " 5.5243610454623058,\n",
       " 5.5205884083167129,\n",
       " 5.5168293599924025,\n",
       " 5.5130838515432252,\n",
       " 5.5093518341993315,\n",
       " 5.5056332593665385,\n",
       " 5.5019280786256992,\n",
       " 5.4982362437320651,\n",
       " 5.4945577066146658,\n",
       " 5.4908924193756778,\n",
       " 5.4872403342898037,\n",
       " 5.483601403803652,\n",
       " 5.479975580535112,\n",
       " 5.476362817272741,\n",
       " 5.4727630669751512,\n",
       " 5.4691762827703982,\n",
       " 5.465602417955358,\n",
       " 5.4620414259951371,\n",
       " 5.4584932605224585,\n",
       " 5.4549578753370476,\n",
       " 5.451435224405051,\n",
       " 5.4479252618584244,\n",
       " 5.4444279419943333,\n",
       " 5.4409432192745646,\n",
       " 5.4374710483249338,\n",
       " 5.4340113839346866,\n",
       " 5.4305641810559191,\n",
       " 5.4271293948029848,\n",
       " 5.423706980451918,\n",
       " 5.4202968934398363,\n",
       " 5.4168990893643807,\n",
       " 5.4135135239831227,\n",
       " 5.4101401532129882,\n",
       " 5.4067789331296936,\n",
       " 5.4034298199671653,\n",
       " 5.4000927701169754,\n",
       " 5.3967677401277676,\n",
       " 5.3934546867046969,\n",
       " 5.3901535667088618,\n",
       " 5.3868643371567462,\n",
       " 5.3835869552196609,\n",
       " 5.3803213782231776,\n",
       " 5.3770675636465795,\n",
       " 5.3738254691223171,\n",
       " 5.37059505243543,\n",
       " 5.3673762715230238,\n",
       " 5.364169084473712,\n",
       " 5.3609734495270676,\n",
       " 5.3577893250730844,\n",
       " 5.354616669651632,\n",
       " 5.3514554419519147,\n",
       " 5.3483056008119432,\n",
       " 5.3451671052179801,\n",
       " 5.3420399143040287,\n",
       " 5.3389239873512819,\n",
       " 5.3358192837876031,\n",
       " 5.3327257631869882,\n",
       " 5.329643385269053,\n",
       " 5.3265721098984988,\n",
       " 5.3235118970845869,\n",
       " 5.3204627069806296,\n",
       " 5.3174244998834608,\n",
       " 5.3143972362329244,\n",
       " 5.3113808766113557,\n",
       " 5.3083753817430726,\n",
       " 5.3053807124938608,\n",
       " 5.3023968298704647,\n",
       " 5.2994236950200815,\n",
       " 5.2964612692298516,\n",
       " 5.2935095139263604,\n",
       " 5.2905683906751291,\n",
       " 5.2876378611801194,\n",
       " 5.2847178872832314,\n",
       " 5.2818084309638111,\n",
       " 5.2789094543381534,\n",
       " 5.2760209196590004,\n",
       " 5.2731427893150702,\n",
       " 5.2702750258305437,\n",
       " 5.267417591864592,\n",
       " 5.2645704502108854,\n",
       " 5.2617335637971108,\n",
       " 5.2589068956844827,\n",
       " 5.2560904090672738,\n",
       " 5.2532840672723218,\n",
       " 5.2504878337585641,\n",
       " 5.2477016721165555,\n",
       " 5.2449255460679947,\n",
       " 5.2421594194652528,\n",
       " 5.2394032562909016,\n",
       " 5.2366570206572511,\n",
       " 5.2339206768058695,\n",
       " 5.2311941891071285,\n",
       " 5.2284775220597366,\n",
       " 5.2257706402902713,\n",
       " 5.2230735085527291,\n",
       " 5.2203860917280558,\n",
       " 5.2177083548236967,\n",
       " 5.2150402629731367,\n",
       " 5.2123817814354494,\n",
       " 5.2097328755948435,\n",
       " 5.2070935109602079,\n",
       " 5.2044636531646722,\n",
       " 5.2018432679651498,\n",
       " 5.1992323212418956,\n",
       " 5.1966307789980632,\n",
       " 5.1940386073592597,\n",
       " 5.1914557725731072,\n",
       " 5.1888822410088018,\n",
       " 5.1863179791566765,\n",
       " 5.1837629536277596,\n",
       " 5.1812171311533488,\n",
       " 5.1786804785845755,\n",
       " 5.1761529628919662,\n",
       " 5.173634551165021,\n",
       " 5.1711252106117822,\n",
       " 5.1686249085584031,\n",
       " 5.1661336124487311,\n",
       " 5.1636512898438749,\n",
       " 5.1611779084217897,\n",
       " 5.1587134359768498,\n",
       " 5.1562578404194337,\n",
       " 5.1538110897755054,\n",
       " 5.1513731521861974,\n",
       " 5.1489439959073966,\n",
       " 5.1465235893093224,\n",
       " 5.1441119008761387,\n",
       " 5.1417088992055158,\n",
       " 5.1393145530082336,\n",
       " 5.1369288311077783,\n",
       " 5.1345517024399321,\n",
       " 5.1321831360523644,\n",
       " 5.129823101104237,\n",
       " 5.1274715668657986,\n",
       " 5.1251285027179794,\n",
       " 5.1227938781520077,\n",
       " 5.1204676627689922,\n",
       " 5.1181498262795424,\n",
       " 5.1158403385033671,\n",
       " 5.1135391693688845,\n",
       " 5.1112462889128247,\n",
       " 5.1089616672798472,\n",
       " 5.1066852747221496,\n",
       " 5.1044170815990766,\n",
       " 5.1021570583767364,\n",
       " 5.0999051756276188,\n",
       " 5.0976614040302106,\n",
       " 5.0954257143686101,\n",
       " 5.0931980775321506,\n",
       " 5.0909784645150209,\n",
       " 5.0887668464158873,\n",
       " 5.0865631944375167,\n",
       " 5.0843674798864011,\n",
       " 5.0821796741723864,\n",
       " 5.079999748808298,\n",
       " 5.0778276754095675,\n",
       " 5.0756634256938717,\n",
       " 5.0735069714807564,\n",
       " 5.0713582846912679,\n",
       " 5.0692173373475962,\n",
       " 5.0670841015727053,\n",
       " 5.0649585495899689,\n",
       " 5.0628406537228097,\n",
       " 5.0607303863943418,\n",
       " 5.05862772012701,\n",
       " 5.0565326275422313,\n",
       " 5.0544450813600355,\n",
       " 5.0523650543987193,\n",
       " 5.0502925195744792,\n",
       " 5.0482274499010735,\n",
       " 5.0461698184894566,\n",
       " 5.0441195985474412,\n",
       " 5.0420767633793409,\n",
       " 5.0400412863856268,\n",
       " 5.0380131410625761,\n",
       " 5.0359923010019401,\n",
       " 5.0339787398905784,\n",
       " 5.0319724315101402,\n",
       " 5.0299733497367072,\n",
       " 5.0279814685404549,\n",
       " 5.0259967619853239,\n",
       " 5.0240192042286669,\n",
       " 5.0220487695209268,\n",
       " 5.0200854322052937,\n",
       " 5.0181291667173671,\n",
       " 5.0161799475848339,\n",
       " 5.0142377494271289,\n",
       " 5.0123025469551061,\n",
       " 5.0103743149707087,\n",
       " 5.0084530283666426,\n",
       " 5.0065386621260464,\n",
       " 5.0046311913221766,\n",
       " 5.00273059111806,\n",
       " 5.0008368367661999,\n",
       " 4.9989499036082261,\n",
       " 4.9970697670745947,\n",
       " 4.9951964026842566,\n",
       " 4.9933297860443435,\n",
       " 4.9914698928498451,\n",
       " 4.9896166988833013,\n",
       " 4.9877701800144782,\n",
       " 4.9859303122000611,\n",
       " 4.9840970714833333,\n",
       " 4.9822704339938717,\n",
       " 4.9804503759472345,\n",
       " 4.978636873644648,\n",
       " 4.9768299034726988,\n",
       " 4.9750294419030308,\n",
       " 4.973235465492035,\n",
       " 4.9714479508805409,\n",
       " 4.9696668747935213,\n",
       " 4.967892214039785,\n",
       " 4.9661239455116677,\n",
       " 4.9643620461847453,\n",
       " 4.9626064931175193,\n",
       " 4.9608572634511301,\n",
       " 4.9591143344090529,\n",
       " 4.9573776832968042,\n",
       " 4.9556472875016402,\n",
       " 4.9539231244922703,\n",
       " 4.9522051718185596,\n",
       " 4.9504934071112396,\n",
       " 4.9487878080816099,\n",
       " 4.9470883525212574,\n",
       " 4.9453950183017596,\n",
       " 4.943707783374399,\n",
       " 4.9420266257698771,\n",
       " 4.9403515235980286,\n",
       " 4.9386824550475366,\n",
       " 4.9370193983856412,\n",
       " 4.9353623319578688,\n",
       " 4.9337112341877427,\n",
       " 4.9320660835764993,\n",
       " 4.9304268587028188,\n",
       " 4.9287935382225347,\n",
       " 4.9271661008683632,\n",
       " 4.9255445254496228,\n",
       " 4.9239287908519618,\n",
       " 4.9223188760370791,\n",
       " 4.9207147600424532,\n",
       " 4.9191164219810677,\n",
       " 4.9175238410411399,\n",
       " 4.9159369964858532,\n",
       " 4.914355867653077,\n",
       " 4.9127804339551115,\n",
       " 4.9112106748784088,\n",
       " 4.9096465699833125,\n",
       " 4.9080880989037849,\n",
       " 4.9065352413471484,\n",
       " 4.904987977093815,\n",
       " 4.9034462859970329,\n",
       " 4.9019101479826102,\n",
       " 4.9003795430486665,\n",
       " 4.8988544512653656,\n",
       " 4.8973348527746561,\n",
       " 4.8958207277900163,\n",
       " 4.894312056596192,\n",
       " 4.8928088195489439,\n",
       " 4.8913109970747897,\n",
       " 4.8898185696707488,\n",
       " 4.8883315179040894,\n",
       " 4.8868498224120795,\n",
       " 4.8853734639017254,\n",
       " 4.8839024231495234,\n",
       " 4.8824366810012201,\n",
       " 4.880976218371547,\n",
       " 4.8795210162439853,\n",
       " 4.8780710556705094,\n",
       " 4.8766263177713407,\n",
       " 4.8751867837347129,\n",
       " 4.8737524348166099,\n",
       " 4.8723232523405349,\n",
       " 4.8708992176972625,\n",
       " 4.8694803123445949,\n",
       " 4.8680665178071223,\n",
       " 4.8666578156759872,\n",
       " 4.8652541876086328,\n",
       " 4.863855615328573,\n",
       " 4.8624620806251588,\n",
       " 4.8610735653533244,\n",
       " 4.8596900514333718,\n",
       " 4.8583115208507142,\n",
       " 4.8569379556556642,\n",
       " 4.8555693379631784,\n",
       " 4.8542056499526396,\n",
       " 4.8528468738676169,\n",
       " 4.8514929920156398,\n",
       " 4.8501439867679608,\n",
       " 4.8487998405593355,\n",
       " 4.8474605358877847,\n",
       " 4.8461260553143699,\n",
       " 4.8447963814629675,\n",
       " 4.8434714970200456,\n",
       " 4.8421513847344286,\n",
       " 4.8408360274170814,\n",
       " 4.8395254079408829,\n",
       " 4.8382195092404032,\n",
       " 4.8369183143116823,\n",
       " 4.8356218062120027,\n",
       " 4.8343299680596772,\n",
       " 4.8330427830338261,\n",
       " 4.8317602343741566,\n",
       " 4.8304823053807446,\n",
       " 4.8292089794138171,\n",
       " 4.8279402398935414,\n",
       " 4.8266760702997988,\n",
       " 4.8254164541719788,\n",
       " 4.8241613751087611,\n",
       " 4.8229108167678989,\n",
       " 4.8216647628660105,\n",
       " 4.8204231971783695,\n",
       " 4.819186103538688,\n",
       " 4.8179534658389018,\n",
       " 4.8167252680289776,\n",
       " 4.8155014941166865,\n",
       " 4.8142821281674033,\n",
       " 4.8130671543039014,\n",
       " 4.8118565567061413,\n",
       " 4.8106503196110655,\n",
       " 4.809448427312395,\n",
       " 4.8082508641604251,\n",
       " 4.8070576145618169,\n",
       " 4.8058686629794032,\n",
       " 4.8046839939319748,\n",
       " 4.8035035919940903,\n",
       " 4.8023274417958657,\n",
       " 4.8011555280227807,\n",
       " 4.7999878354154761,\n",
       " 4.7988243487695552,\n",
       " 4.7976650529353915,\n",
       " 4.7965099328179193,\n",
       " 4.795358973376449,\n",
       " 4.7942121596244656,\n",
       " 4.7930694766294373,\n",
       " 4.7919309095126117,\n",
       " 4.7907964434488362,\n",
       " 4.7896660636663553,\n",
       " 4.7885397554466147,\n",
       " 4.7874175041240843,\n",
       " 4.7862992950860539,\n",
       " 4.7851851137724468,\n",
       " 4.7840749456756351,\n",
       " 4.7829687763402395,\n",
       " 4.7818665913629541,\n",
       " 4.7807683763923512,\n",
       " 4.7796741171286952,\n",
       " 4.7785837993237585,\n",
       " 4.7774974087806346,\n",
       " 4.7764149313535516,\n",
       " 4.7753363529476918,\n",
       " 4.7742616595190066,\n",
       " 4.773190837074031,\n",
       " 4.7721238716697076,\n",
       " 4.7710607494131958,\n",
       " 4.770001456461701,\n",
       " 4.7689459790222868,\n",
       " 4.7678943033516976,\n",
       " 4.7668464157561825,\n",
       " 4.7658023025913154,\n",
       " 4.7647619502618124,\n",
       " 4.7637253452213626,\n",
       " 4.7626924739724474,\n",
       " 4.7616633230661636,\n",
       " 4.7606378791020534,\n",
       " 4.7596161287279255,\n",
       " 4.7585980586396799,\n",
       " 4.7575836555811408,\n",
       " 4.7565729063438775,\n",
       " 4.755565797767038,\n",
       " 4.7545623167371724,\n",
       " 4.7535624501880669,\n",
       " 4.7525661851005694,\n",
       " 4.7515735085024238,\n",
       " 4.7505844074680983,\n",
       " 4.7495988691186195,\n",
       " 4.7486168806213991,\n",
       " 4.7476384291900775,\n",
       " 4.7466635020843455,\n",
       " 4.7456920866097869,\n",
       " 4.7447241701177063,\n",
       " 4.7437597400049727,\n",
       " 4.7427987837138508,\n",
       " 4.7418412887318322,\n",
       " 4.7408872425914836,\n",
       " 4.7399366328702737,\n",
       " 4.7389894471904226,\n",
       " 4.7380456732187284,\n",
       " 4.7371052986664157,\n",
       " 4.7361683112889716,\n",
       " 4.7352346988859901,\n",
       " 4.7343044493010051,\n",
       " 4.7333775504213422,\n",
       " 4.7324539901779525,\n",
       " 4.7315337565452609,\n",
       " 4.7306168375410103,\n",
       " 4.7297032212260985,\n",
       " 4.7287928957044265,\n",
       " 4.7278858491227513,\n",
       " 4.7269820696705196,\n",
       " 4.7260815455797172,\n",
       " 4.7251842651247209,\n",
       " 4.7242902166221423,\n",
       " 4.7233993884306775,\n",
       " 4.7225117689509473,\n",
       " 4.7216273466253593,\n",
       " 4.7207461099379495,\n",
       " 4.7198680474142325,\n",
       " 4.7189931476210534,\n",
       " 4.7181213991664395,\n",
       " 4.7172527906994519,\n",
       " 4.7163873109100356,\n",
       " 4.7155249485288753,\n",
       " 4.7146656923272445,\n",
       " 4.7138095311168664,\n",
       " 4.7129564537497588,\n",
       " 4.7121064491180977,\n",
       " 4.7112595061540672,\n",
       " 4.7104156138297153,\n",
       " 4.7095747611568166,\n",
       " 4.708736937186722,\n",
       " 4.7079021310102167,\n",
       " 4.7070703317573814,\n",
       " 4.7062415285974541,\n",
       " 4.7054157107386798,\n",
       " 4.7045928674281754,\n",
       " 4.7037729879517904,\n",
       " 4.7029560616339632,\n",
       " 4.70214207783759,\n",
       " 4.701331025963877,\n",
       " 4.7005228954522069,\n",
       " 4.699717675780005,\n",
       " 4.6989153564625923,\n",
       " 4.6981159270530615,\n",
       " 4.6973193771421275,\n",
       " 4.6965256963580071,\n",
       " 4.6957348743662664,\n",
       " 4.6949469008697031,\n",
       " 4.6941617656082011,\n",
       " 4.6933794583586002,\n",
       " 4.6925999689345677,\n",
       " 4.6918232871864571,\n",
       " 4.6910494030011822,\n",
       " 4.6902783063020799,\n",
       " 4.6895099870487913,\n",
       " 4.6887444352371128,\n",
       " 4.6879816408988813,\n",
       " 4.6872215941018345,\n",
       " 4.6864642849494906,\n",
       " 4.6857097035810078,\n",
       " 4.6849578401710694,\n",
       " 4.6842086849297448,\n",
       " 4.6834622281023668,\n",
       " 4.6827184599694016,\n",
       " 4.6819773708463313,\n",
       " 4.6812389510835137,\n",
       " 4.6805031910660686,\n",
       " 4.6797700812137446,\n",
       " 4.6790396119808033,\n",
       " 4.6783117738558833,\n",
       " 4.677586557361888,\n",
       " 4.676863953055852,\n",
       " 4.6761439515288243,\n",
       " 4.6754265434057478,\n",
       " 4.6747117193453276,\n",
       " 4.6739994700399246,\n",
       " 4.6732897862154132,\n",
       " 4.6725826586310841,\n",
       " 4.6718780780795051,\n",
       " 4.6711760353864129,\n",
       " 4.6704765214105874,\n",
       " 4.6697795270437332,\n",
       " 4.6690850432103659,\n",
       " 4.6683930608676887,\n",
       " 4.6677035710054771,\n",
       " 4.6670165646459569,\n",
       " 4.6663320328436981,\n",
       " 4.6656499666854891,\n",
       " 4.664970357290219,\n",
       " 4.6642931958087708,\n",
       " 4.6636184734239015,\n",
       " 4.6629461813501241,\n",
       " 4.6622763108335992,\n",
       " 4.6616088531520177,\n",
       " 4.6609437996144862,\n",
       " 4.660281141561418,\n",
       " 4.6596208703644146,\n",
       " 4.6589629774261603,\n",
       " 4.6583074541803029,\n",
       " 4.6576542920913457,\n",
       " 4.6570034826545426,\n",
       " 4.6563550173957715,\n",
       " 4.6557088878714392,\n",
       " 4.6550650856683662,\n",
       " 4.6544236024036767,\n",
       " 4.6537844297246886,\n",
       " 4.6531475593088025,\n",
       " 4.6525129828633993,\n",
       " 4.6518806921257339,\n",
       " 4.6512506788628167,\n",
       " 4.650622934871314,\n",
       " 4.649997451977443,\n",
       " 4.6493742220368581,\n",
       " 4.6487532369345557,\n",
       " 4.6481344885847538,\n",
       " 4.6475179689308002,\n",
       " 4.6469036699450621,\n",
       " 4.6462915836288197,\n",
       " 4.6456817020121655,\n",
       " 4.6450740171538989,\n",
       " 4.6444685211414232,\n",
       " 4.6438652060906405,\n",
       " 4.6432640641458542,\n",
       " 4.6426650874796627,\n",
       " 4.6420682682928556,\n",
       " 4.6414735988143185,\n",
       " 4.6408810713009245,\n",
       " 4.6402906780374398,\n",
       " 4.6397024113364198,\n",
       " 4.6391162635381065,\n",
       " 4.6385322270103391,\n",
       " 4.637950294148439,\n",
       " 4.6373704573751251,\n",
       " 4.6367927091404066,\n",
       " 4.6362170419214879,\n",
       " 4.6356434482226714,\n",
       " 4.635071920575256,\n",
       " 4.6345024515374433,\n",
       " 4.6339350336942422,\n",
       " 4.6333696596573679,\n",
       " 4.6328063220651456,\n",
       " 4.6322450135824225,\n",
       " 4.6316857269004608,\n",
       " 4.6311284547368503,\n",
       " 4.630573189835415,\n",
       " 4.6300199249661107,\n",
       " 4.6294686529249365,\n",
       " 4.6289193665338422,\n",
       " 4.6283720586406298,\n",
       " 4.627826722118864,\n",
       " 4.6272833498677777,\n",
       " 4.6267419348121841,\n",
       " 4.6262024699023732,\n",
       " 4.6256649481140384,\n",
       " 4.6251293624481633,\n",
       " 4.6245957059309504,\n",
       " 4.6240639716137144,\n",
       " 4.6235341525728026,\n",
       " 4.6230062419095024,\n",
       " 4.622480232749945,\n",
       " 4.6219561182450253,\n",
       " 4.621433891570307,\n",
       " 4.6209135459259327,\n",
       " 4.6203950745365399,\n",
       " 4.6198784706511731,\n",
       " 4.6193637275431874,\n",
       " 4.6188508385101716,\n",
       " 4.6183397968738547,\n",
       " 4.6178305959800205,\n",
       " 4.6173232291984192,\n",
       " 4.6168176899226854,\n",
       " 4.6163139715702499,\n",
       " 4.61581206758225,\n",
       " 4.6153119714234503,\n",
       " 4.6148136765821555,\n",
       " 4.614317176570121,\n",
       " 4.613822464922479,\n",
       " 4.613329535197642,\n",
       " 4.6128383809772266,\n",
       " 4.61234899586597,\n",
       " 4.6118613734916423,\n",
       " 4.6113755075049667,\n",
       " 4.6108913915795364,\n",
       " 4.6104090194117306,\n",
       " 4.6099283847206358,\n",
       " 4.6094494812479612,\n",
       " 4.6089723027579597,\n",
       " 4.608496843037341,\n",
       " 4.6080230958951978,\n",
       " 4.6075510551629204,\n",
       " 4.6070807146941197,\n",
       " 4.6066120683645462,\n",
       " 4.6061451100720037,\n",
       " 4.6056798337362856,\n",
       " 4.6052162332990774,\n",
       " 4.6047543027238902,\n",
       " 4.6042940359959772,\n",
       " 4.6038354271222568,\n",
       " 4.6033784701312328,\n",
       " 4.6029231590729198,\n",
       " 4.6024694880187651,\n",
       " 4.6020174510615641,\n",
       " 4.6015670423153985,\n",
       " 4.6011182559155417,\n",
       " 4.6006710860184006,\n",
       " 4.6002255268014212,\n",
       " 4.59978157246303,\n",
       " 4.5993392172225445,\n",
       " 4.598898455320108,\n",
       " 4.5984592810166074,\n",
       " 4.5980216885936036,\n",
       " 4.5975856723532544,\n",
       " 4.5971512266182417,\n",
       " 4.596718345731694,\n",
       " 4.5962870240571183,\n",
       " 4.5958572559783262,\n",
       " 4.5954290358993486,\n",
       " 4.5950023582443853,\n",
       " 4.5945772174577115,\n",
       " 4.5941536080036176,\n",
       " 4.5937315243663299,\n",
       " 4.5933109610499461,\n",
       " 4.5928919125783576,\n",
       " 4.5924743734951816,\n",
       " 4.5920583383636862,\n",
       " 4.5916438017667263,\n",
       " 4.5912307583066667,\n",
       " 4.5908192026053127,\n",
       " 4.5904091293038443,\n",
       " 4.590000533062744,\n",
       " 4.5895934085617238,\n",
       " 4.5891877504996614,\n",
       " 4.5887835535945278,\n",
       " 4.5883808125833205,\n",
       " 4.5879795222219961,\n",
       " 4.5875796772853938,\n",
       " 4.587181272567177,\n",
       " 4.5867843028797646,\n",
       " 4.5863887630542584,\n",
       " 4.5859946479403781,\n",
       " 4.5856019524063916,\n",
       " 4.5852106713390581,\n",
       " 4.5848207996435475,\n",
       " 4.5844323322433862,\n",
       " 4.5840452640803813,\n",
       " 4.5836595901145616,\n",
       " 4.5832753053241113,\n",
       " 4.5828924047052979,\n",
       " 4.582510883272418,\n",
       " 4.5821307360577226,\n",
       " 4.5817519581113553,\n",
       " 4.5813745445012923,\n",
       " 4.5809984903132728,\n",
       " 4.5806237906507361,\n",
       " 4.5802504406347611,\n",
       " 4.5798784354039972,\n",
       " 4.5795077701146063,\n",
       " 4.5791384399401984,\n",
       " 4.5787704400717635,\n",
       " 4.578403765717618,\n",
       " 4.5780384121033375,\n",
       " 4.5776743744716892,\n",
       " 4.577311648082584,\n",
       " 4.576950228212997,\n",
       " 4.576590110156924,\n",
       " 4.5762312892253076,\n",
       " 4.5758737607459796,\n",
       " 4.5755175200636016,\n",
       " 4.575162562539604,\n",
       " 4.5748088835521212,\n",
       " 4.5744564784959421,\n",
       " 4.5741053427824374,\n",
       " 4.5737554718395117,\n",
       " 4.5734068611115282,\n",
       " 4.5730595060592716,\n",
       " 4.5727134021598657,\n",
       " 4.5723685449067331,\n",
       " 4.572024929809527,\n",
       " 4.5716825523940683,\n",
       " 4.5713414082023025,\n",
       " 4.5710014927922291,\n",
       " 4.5706628017378454,\n",
       " 4.5703253306290952,\n",
       " 4.5699890750718026,\n",
       " 4.5696540306876239,\n",
       " 4.5693201931139793,\n",
       " 4.5689875580040118,\n",
       " 4.568656121026514,\n",
       " 4.568325877865882,\n",
       " 4.5679968242220559,\n",
       " 4.5676689558104657,\n",
       " 4.5673422683619735,\n",
       " 4.5670167576228176,\n",
       " 4.5666924193545597,\n",
       " 4.5663692493340262,\n",
       " 4.5660472433532568,\n",
       " 4.5657263972194473,\n",
       " 4.5654067067548976,\n",
       " 4.5650881677969499,\n",
       " 4.5647707761979479,\n",
       " 4.564454527825168,\n",
       " 4.564139418560778,\n",
       " 4.5638254443017718,\n",
       " 4.5635126009599292,\n",
       " 4.5632008844617484,\n",
       " 4.5628902907484061,\n",
       " 4.5625808157756946,\n",
       " 4.562272455513976,\n",
       " 4.5619652059481242,\n",
       " 4.561659063077478,\n",
       " 4.5613540229157836,\n",
       " 4.5610500814911488,\n",
       " 4.5607472348459854,\n",
       " 4.5604454790369617,\n",
       " 4.5601448101349478,\n",
       " 4.5598452242249667,\n",
       " 4.5595467174061444,\n",
       " 4.5592492857916573,\n",
       " 4.5589529255086818,\n",
       " 4.558657632698341,\n",
       " 4.5583634035156644,\n",
       " 4.5580702341295227,\n",
       " 4.5577781207225918,\n",
       " 4.5574870594912946,\n",
       " 4.5571970466457561,\n",
       " 4.5569080784097515,\n",
       " 4.5566201510206552,\n",
       " 4.5563332607294003,\n",
       " 4.5560474038004166,\n",
       " 4.5557625765115946,\n",
       " 4.5554787751542314,\n",
       " 4.5551959960329791,\n",
       " 4.5549142354658025,\n",
       " 4.5546334897839271,\n",
       " 4.5543537553317979,\n",
       " 4.5540750284670208,\n",
       " 4.5537973055603276,\n",
       " 4.5535205829955157,\n",
       " 4.5532448571694122,\n",
       " 4.5529701244918241,\n",
       " 4.552696381385485,\n",
       " 4.5524236242860185,\n",
       " 4.5521518496418825,\n",
       " 4.5518810539143306,\n",
       " 4.551611233577364,\n",
       " 4.5513423851176782,\n",
       " 4.5510745050346291,\n",
       " 4.550807589840181,\n",
       " 4.5505416360588606,\n",
       " 4.5502766402277119,\n",
       " 4.5500125988962541,\n",
       " 4.5497495086264337,\n",
       " 4.549487365992583,\n",
       " 4.549226167581371,\n",
       " 4.5489659099917645,\n",
       " 4.5487065898349748,\n",
       " 4.5484482037344263,\n",
       " 4.5481907483256983,\n",
       " 4.5479342202564972,\n",
       " 4.5476786161865972,\n",
       " 4.5474239327878054,\n",
       " 4.5471701667439186,\n",
       " 4.5469173147506767,\n",
       " 4.5466653735157241,\n",
       " 4.5464143397585595,\n",
       " 4.5461642102105024,\n",
       " 4.5459149816146418,\n",
       " 4.545666650725801,\n",
       " 4.545419214310491,\n",
       " 4.5451726691468686,\n",
       " 4.544927012024699,\n",
       " 4.5446822397453062,\n",
       " 4.5444383491215383,\n",
       " 4.5441953369777224,\n",
       " 4.543953200149625,\n",
       " 4.5437119354844073,\n",
       " 4.5434715398405929,\n",
       " 4.5432320100880119,\n",
       " 4.5429933431077787,\n",
       " 4.5427555357922342,\n",
       " 4.5425185850449168,\n",
       " 4.5422824877805166,\n",
       " 4.5420472409248385,\n",
       " 4.5418128414147576,\n",
       " 4.5415792861981856,\n",
       " 4.5413465722340263,\n",
       " 4.5411146964921363,\n",
       " 4.5408836559532864,\n",
       " 4.5406534476091247,\n",
       " 4.5404240684621326,\n",
       " 4.5401955155255909,\n",
       " 4.5399677858235385,\n",
       " 4.539740876390729,\n",
       " 4.5395147842726029,\n",
       " 4.5392895065252388,\n",
       " 4.5390650402153199,\n",
       " 4.5388413824200953,\n",
       " 4.5386185302273425,\n",
       " 4.5383964807353276,\n",
       " 4.5381752310527661,\n",
       " 4.5379547782987961,\n",
       " 4.5377351196029228,\n",
       " 4.5375162521049957,\n",
       " 4.5372981729551656,\n",
       " 4.537080879313848,\n",
       " 4.5368643683516865,\n",
       " 4.5366486372495158,\n",
       " 4.5364336831983261,\n",
       " 4.5362195033992228,\n",
       " 4.5360060950633967,\n",
       " 4.5357934554120813,\n",
       " 4.5355815816765181,\n",
       " 4.5353704710979228,\n",
       " 4.5351601209274488,\n",
       " 4.5349505284261511,\n",
       " 4.5347416908649452,\n",
       " 4.534533605524584,\n",
       " 4.5343262696956117,\n",
       " 4.5341196806783293,\n",
       " 4.5339138357827649,\n",
       " 4.533708732328634,\n",
       " 4.5335043676453104,\n",
       " 4.5333007390717821,\n",
       " 4.5330978439566234,\n",
       " 4.5328956796579618,\n",
       " 4.5326942435434372,\n",
       " 4.5324935329901708,\n",
       " 4.5322935453847366,\n",
       " 4.5320942781231146,\n",
       " 4.53189572861067,\n",
       " 4.5316978942621109,\n",
       " 4.5315007725014587,\n",
       " 4.5313043607620136,\n",
       " 4.5311086564863183,\n",
       " 4.5309136571261295,\n",
       " 4.530719360142383,\n",
       " 4.5305257630051603,\n",
       " 4.530332863193653,\n",
       " 4.5301406581961343,\n",
       " 4.5299491455099252,\n",
       " 4.52975832264136,\n",
       " 4.5295681871057543,\n",
       " 4.5293787364273754,\n",
       " 4.5291899681394066,\n",
       " 4.5290018797839187,\n",
       " 4.5288144689118317,\n",
       " 4.5286277330828923,\n",
       " 4.5284416698656313,\n",
       " 4.5282562768373413,\n",
       " 4.5280715515840404,\n",
       " 4.5278874917004428,\n",
       " 4.5277040947899216,\n",
       " 4.5275213584644902,\n",
       " 4.5273392803447567,\n",
       " 4.5271578580599039,\n",
       " 4.5269770892476497,\n",
       " 4.5267969715542264,\n",
       " 4.5266175026343403,\n",
       " 4.5264386801511467,\n",
       " 4.5262605017762176,\n",
       " 4.5260829651895129,\n",
       " 4.5259060680793475,\n",
       " 4.5257298081423638,\n",
       " 4.5255541830835027,\n",
       " 4.5253791906159675,\n",
       " 4.5252048284612032,\n",
       " 4.5250310943488561,\n",
       " 4.524857986016757,\n",
       " 4.5246855012108798,\n",
       " 4.5245136376853194,\n",
       " 4.5243423932022591,\n",
       " 4.5241717655319453,\n",
       " 4.5240017524526541,\n",
       " 4.5238323517506611,\n",
       " 4.5236635612202223,\n",
       " 4.5234953786635321,\n",
       " 4.5233278018907068,\n",
       " 4.5231608287197469,\n",
       " 4.5229944569765115,\n",
       " 4.5228286844946934,\n",
       " 4.5226635091157901,\n",
       " 4.5224989286890684,\n",
       " 4.5223349410715468,\n",
       " 4.5221715441279597,\n",
       " 4.5220087357307337,\n",
       " 4.5218465137599591,\n",
       " 4.521684876103361,\n",
       " 4.5215238206562747,\n",
       " 4.5213633453216131,\n",
       " 4.5212034480098477,\n",
       " 4.5210441266389712,\n",
       " 4.5208853791344783,\n",
       " 4.5207272034293364,\n",
       " 4.5205695974639548,\n",
       " 4.520412559186167,\n",
       " 4.5202560865511909,\n",
       " 4.5201001775216172,\n",
       " 4.5199448300673701,\n",
       " 4.5197900421656882,\n",
       " 4.5196358118010975,\n",
       " 4.5194821369653768,\n",
       " 4.5193290156575481,\n",
       " 4.5191764458838328,\n",
       " 4.5190244256576371,\n",
       " 4.5188729529995237,\n",
       " 4.5187220259371843,\n",
       " 4.518571642505413,\n",
       " 4.5184218007460837,\n",
       " 4.518272498708126,\n",
       " 4.5181237344474914,\n",
       " 4.5179755060271383,\n",
       " 4.5178278115170025,\n",
       " 4.5176806489939692,\n",
       " 4.5175340165418492,\n",
       " 4.5173879122513609,\n",
       " 4.5172423342200956,\n",
       " 4.5170972805524974,\n",
       " 4.5169527493598398,\n",
       " 4.5168087387601963,\n",
       " 4.5166652468784232,\n",
       " 4.5165222718461262,\n",
       " 4.5163798118016443,\n",
       " 4.5162378648900221,\n",
       " 4.5160964292629844]"
      ]
     },
     "execution_count": 23,
     "metadata": {},
     "output_type": "execute_result"
    }
   ],
   "source": [
    "# Last error seen: \n",
    "error_list"
   ]
  },
  {
   "cell_type": "code",
   "execution_count": 24,
   "metadata": {},
   "outputs": [
    {
     "data": {
      "text/plain": [
       "[0, 1000, 4.5, 7]"
      ]
     },
     "execution_count": 24,
     "metadata": {},
     "output_type": "execute_result"
    },
    {
     "data": {
      "image/png": "[encoded data removed]",
      "text/plain": [
       "<matplotlib.figure.Figure at 0x10f271278>"
      ]
     },
     "metadata": {},
     "output_type": "display_data"
    }
   ],
   "source": [
    "fig, ax = plt.subplots(figsize=(12,8))\n",
    "ax.plot(np.arange(1000), error_list, 'r')\n",
    "ax.set_xlabel('Iterations')\n",
    "ax.set_ylabel('Cost')\n",
    "ax.set_title('Error vs. Training Epoch')\n",
    "plt.axis([0,1000,4.5,7])"
   ]
  },
  {
   "cell_type": "code",
   "execution_count": 25,
   "metadata": {
    "collapsed": true
   },
   "outputs": [],
   "source": [
    "x1 = np.linspace(X[:,1].min(), X[:,1].max(), len(X))\n",
    "X_new = np.c_[np.ones(len(X)),x1]"
   ]
  },
  {
   "cell_type": "code",
   "execution_count": 26,
   "metadata": {},
   "outputs": [
    {
     "data": {
      "text/plain": [
       "[<matplotlib.lines.Line2D at 0x111a0f860>]"
      ]
     },
     "execution_count": 26,
     "metadata": {},
     "output_type": "execute_result"
    },
    {
     "data": {
      "image/png": "[encoded data removed]",
      "text/plain": [
       "<matplotlib.figure.Figure at 0x111a0f828>"
      ]
     },
     "metadata": {},
     "output_type": "display_data"
    }
   ],
   "source": [
    "def predict(X,theta):\n",
    "    return X.dot(theta.T)\n",
    "y_pred = predict(X_new, theta)\n",
    "\n",
    "plt.plot(X[:,1], y, 'c.')\n",
    "plt.plot(x1 ,y_pred, 'r--')"
   ]
  },
  {
   "cell_type": "code",
   "execution_count": 27,
   "metadata": {},
   "outputs": [
    {
     "data": {
      "text/plain": [
       "array([[ 0.05839135,  0.6532885 ],\n",
       "       [ 0.06289175,  0.77000978],\n",
       "       [ 0.05782293,  0.79134812],\n",
       "       ..., \n",
       "       [-3.23903659,  1.12705656],\n",
       "       [-3.24022043,  1.12717549],\n",
       "       [-3.24140214,  1.1272942 ]])"
      ]
     },
     "execution_count": 27,
     "metadata": {},
     "output_type": "execute_result"
    }
   ],
   "source": [
    "params = np.array(parameters)\n",
    "params"
   ]
  },
  {
   "cell_type": "code",
   "execution_count": 29,
   "metadata": {
    "collapsed": true
   },
   "outputs": [],
   "source": [
    "def MSE(X,theta,y):\n",
    "    y_pred = np.array(X.dot(theta))\n",
    "    sum_errors_sq = np.sum((y_pred - y)**2)\n",
    "    return sum_errors_sq/(2*len(y))"
   ]
  },
  {
   "cell_type": "code",
   "execution_count": 30,
   "metadata": {},
   "outputs": [
    {
     "data": {
      "text/plain": [
       "((97, 2), (97, 1))"
      ]
     },
     "execution_count": 30,
     "metadata": {},
     "output_type": "execute_result"
    }
   ],
   "source": [
    "X = data.iloc[:,:2].values\n",
    "y = data.iloc[:,2].values.reshape(-1,1)\n",
    "X.shape, y.shape"
   ]
  },
  {
   "cell_type": "code",
   "execution_count": 31,
   "metadata": {},
   "outputs": [
    {
     "data": {
      "text/plain": [
       "((100,), (100,), (100,))"
      ]
     },
     "execution_count": 31,
     "metadata": {},
     "output_type": "execute_result"
    }
   ],
   "source": [
    "import matplotlib.pyplot as plt\n",
    "import matplotlib\n",
    "from mpl_toolkits.mplot3d import Axes3D\n",
    "\n",
    "theta_0 = np.linspace(params[:,0].min(), params[:,0].max(), 100)\n",
    "theta_1 = np.linspace(params[:,1].min(), params[:,1].max(), 100)\n",
    "theta = []\n",
    "for index in range(len(theta_0)):\n",
    "    theta.append(np.array([theta_0[index], theta_1[index]]))\n",
    "theta = np.array(theta)\n",
    "Z = []\n",
    "for parameters in theta:\n",
    "    cost = np.sqrt(MSE(X, parameters, y))\n",
    "    Z.append(cost)\n",
    "Z = np.array(Z)\n",
    "theta_0.shape, theta_1.shape, Z.shape"
   ]
  },
  {
   "cell_type": "code",
   "execution_count": 32,
   "metadata": {},
   "outputs": [
    {
     "data": {
      "text/plain": [
       "array([[ 0.05839135,  0.6532885 ],\n",
       "       [ 0.06289175,  0.77000978],\n",
       "       [ 0.05782293,  0.79134812],\n",
       "       ..., \n",
       "       [-3.23903659,  1.12705656],\n",
       "       [-3.24022043,  1.12717549],\n",
       "       [-3.24140214,  1.1272942 ]])"
      ]
     },
     "execution_count": 32,
     "metadata": {},
     "output_type": "execute_result"
    }
   ],
   "source": [
    "params"
   ]
  },
  {
   "cell_type": "code",
   "execution_count": 33,
   "metadata": {},
   "outputs": [
    {
     "data": {
      "image/png": "[encoded data removed]",
      "text/plain": [
       "<matplotlib.figure.Figure at 0x10f141358>"
      ]
     },
     "metadata": {},
     "output_type": "display_data"
    }
   ],
   "source": [
    "fig = plt.figure(figsize = (11,6))\n",
    "ax = fig.gca(projection='3d')\n",
    "ax.scatter(theta_0, theta_1, Z, c= \"r\", depthshade = False)\n",
    "for theta in params:\n",
    "    ax.scatter(params[0], params[1], np.sqrt(MSE(X,theta,y)) ,c = \"c\")"
   ]
  },
  {
   "cell_type": "markdown",
   "metadata": {},
   "source": [
    "# Multi-Variate Linear Regression: "
   ]
  },
  {
   "cell_type": "code",
   "execution_count": 34,
   "metadata": {},
   "outputs": [
    {
     "data": {
      "text/html": [
       "<div>\n",
       "<style>\n",
       "    .dataframe thead tr:only-child th {\n",
       "        text-align: right;\n",
       "    }\n",
       "\n",
       "    .dataframe thead th {\n",
       "        text-align: left;\n",
       "    }\n",
       "\n",
       "    .dataframe tbody tr th {\n",
       "        vertical-align: top;\n",
       "    }\n",
       "</style>\n",
       "<table border=\"1\" class=\"dataframe\">\n",
       "  <thead>\n",
       "    <tr style=\"text-align: right;\">\n",
       "      <th></th>\n",
       "      <th>Size</th>\n",
       "      <th>Bedroom</th>\n",
       "      <th>Price</th>\n",
       "    </tr>\n",
       "  </thead>\n",
       "  <tbody>\n",
       "    <tr>\n",
       "      <th>0</th>\n",
       "      <td>2104</td>\n",
       "      <td>3</td>\n",
       "      <td>399900</td>\n",
       "    </tr>\n",
       "    <tr>\n",
       "      <th>1</th>\n",
       "      <td>1600</td>\n",
       "      <td>3</td>\n",
       "      <td>329900</td>\n",
       "    </tr>\n",
       "    <tr>\n",
       "      <th>2</th>\n",
       "      <td>2400</td>\n",
       "      <td>3</td>\n",
       "      <td>369000</td>\n",
       "    </tr>\n",
       "    <tr>\n",
       "      <th>3</th>\n",
       "      <td>1416</td>\n",
       "      <td>2</td>\n",
       "      <td>232000</td>\n",
       "    </tr>\n",
       "    <tr>\n",
       "      <th>4</th>\n",
       "      <td>3000</td>\n",
       "      <td>4</td>\n",
       "      <td>539900</td>\n",
       "    </tr>\n",
       "  </tbody>\n",
       "</table>\n",
       "</div>"
      ],
      "text/plain": [
       "   Size  Bedroom   Price\n",
       "0  2104        3  399900\n",
       "1  1600        3  329900\n",
       "2  2400        3  369000\n",
       "3  1416        2  232000\n",
       "4  3000        4  539900"
      ]
     },
     "execution_count": 34,
     "metadata": {},
     "output_type": "execute_result"
    }
   ],
   "source": [
    "from mpl_toolkits.mplot3d import Axes3D  \n",
    "path = path = os.path.join(os.getcwd(),\"data\",\"ex1data2.txt\")\n",
    "data2 = pd.read_csv(path, header = None, names = [\"Size\", \n",
    "                                                 \"Bedroom\",\n",
    "                                                 \"Price\"])\n",
    "data2.head()"
   ]
  },
  {
   "cell_type": "code",
   "execution_count": null,
   "metadata": {
    "collapsed": true
   },
   "outputs": [],
   "source": []
  },
  {
   "cell_type": "code",
   "execution_count": 35,
   "metadata": {
    "collapsed": true
   },
   "outputs": [],
   "source": [
    "x = np.array(data2[\"Size\"])\n",
    "y = np.array(data2[\"Bedroom\"])\n",
    "z = np.array(data2[\"Price\"])"
   ]
  },
  {
   "cell_type": "code",
   "execution_count": 36,
   "metadata": {},
   "outputs": [
    {
     "data": {
      "text/plain": [
       "<matplotlib.text.Text at 0x113109dd8>"
      ]
     },
     "execution_count": 36,
     "metadata": {},
     "output_type": "execute_result"
    },
    {
     "data": {
      "image/png": "[encoded data removed]",
      "text/plain": [
       "<matplotlib.figure.Figure at 0x1130b1b70>"
      ]
     },
     "metadata": {},
     "output_type": "display_data"
    }
   ],
   "source": [
    "fig = plt.figure(figsize = (11,6))\n",
    "ax = fig.gca(projection='3d')\n",
    "ax.scatter(x, y, z, c= \"r\", depthshade = False)\n",
    "ax.set_xlabel(\"Size\", fontsize = 20)\n",
    "ax.set_ylabel(\"Bedroom\", fontsize = 20)\n",
    "ax.set_zlabel(\"Price\",rotation = 90 ,fontsize = 20 )"
   ]
  },
  {
   "cell_type": "code",
   "execution_count": 37,
   "metadata": {},
   "outputs": [
    {
     "data": {
      "text/plain": [
       "array([[ 0.,  0.,  0.]])"
      ]
     },
     "execution_count": 37,
     "metadata": {},
     "output_type": "execute_result"
    }
   ],
   "source": [
    "theta = np.zeros((1,3))\n",
    "theta"
   ]
  },
  {
   "cell_type": "code",
   "execution_count": 38,
   "metadata": {},
   "outputs": [
    {
     "data": {
      "text/plain": [
       "((47, 3), (47, 1))"
      ]
     },
     "execution_count": 38,
     "metadata": {},
     "output_type": "execute_result"
    }
   ],
   "source": [
    "x1x2 = data2.iloc[:,:2].values\n",
    "x0 = np.ones(len(x1x2))\n",
    "X = np.c_[x0, x1x2]\n",
    "y = data2.iloc[:,2].values.reshape(-1,1)\n",
    "X.shape, y.shape"
   ]
  },
  {
   "cell_type": "code",
   "execution_count": null,
   "metadata": {
    "collapsed": true
   },
   "outputs": [],
   "source": []
  },
  {
   "cell_type": "code",
   "execution_count": 39,
   "metadata": {},
   "outputs": [
    {
     "data": {
      "text/plain": [
       "1.0"
      ]
     },
     "execution_count": 39,
     "metadata": {},
     "output_type": "execute_result"
    }
   ],
   "source": [
    "X[:,0].mean()"
   ]
  },
  {
   "cell_type": "code",
   "execution_count": 40,
   "metadata": {
    "collapsed": true
   },
   "outputs": [],
   "source": [
    "# Normalizing the features:\n",
    "# for column in range(X.shape[1]):\n",
    "#     mean = X[:,column].mean()\n",
    "#     std = X[:,column].std()\n",
    "#     X[:,column] = (X[:,column] - mean)/ std\n",
    "X[:,1] = (X[:,1] - X[:,1].mean())/ X[:,1].std()\n",
    "X[:,2] = (X[:,2] - X[:,2].mean())/ X[:,2].std()\n"
   ]
  },
  {
   "cell_type": "code",
   "execution_count": 41,
   "metadata": {},
   "outputs": [
    {
     "data": {
      "text/html": [
       "<div>\n",
       "<style>\n",
       "    .dataframe thead tr:only-child th {\n",
       "        text-align: right;\n",
       "    }\n",
       "\n",
       "    .dataframe thead th {\n",
       "        text-align: left;\n",
       "    }\n",
       "\n",
       "    .dataframe tbody tr th {\n",
       "        vertical-align: top;\n",
       "    }\n",
       "</style>\n",
       "<table border=\"1\" class=\"dataframe\">\n",
       "  <thead>\n",
       "    <tr style=\"text-align: right;\">\n",
       "      <th></th>\n",
       "      <th>0</th>\n",
       "      <th>1</th>\n",
       "      <th>2</th>\n",
       "    </tr>\n",
       "  </thead>\n",
       "  <tbody>\n",
       "    <tr>\n",
       "      <th>0</th>\n",
       "      <td>1.0</td>\n",
       "      <td>0.131415</td>\n",
       "      <td>-0.226093</td>\n",
       "    </tr>\n",
       "    <tr>\n",
       "      <th>1</th>\n",
       "      <td>1.0</td>\n",
       "      <td>-0.509641</td>\n",
       "      <td>-0.226093</td>\n",
       "    </tr>\n",
       "    <tr>\n",
       "      <th>2</th>\n",
       "      <td>1.0</td>\n",
       "      <td>0.507909</td>\n",
       "      <td>-0.226093</td>\n",
       "    </tr>\n",
       "    <tr>\n",
       "      <th>3</th>\n",
       "      <td>1.0</td>\n",
       "      <td>-0.743677</td>\n",
       "      <td>-1.554392</td>\n",
       "    </tr>\n",
       "    <tr>\n",
       "      <th>4</th>\n",
       "      <td>1.0</td>\n",
       "      <td>1.271071</td>\n",
       "      <td>1.102205</td>\n",
       "    </tr>\n",
       "  </tbody>\n",
       "</table>\n",
       "</div>"
      ],
      "text/plain": [
       "     0         1         2\n",
       "0  1.0  0.131415 -0.226093\n",
       "1  1.0 -0.509641 -0.226093\n",
       "2  1.0  0.507909 -0.226093\n",
       "3  1.0 -0.743677 -1.554392\n",
       "4  1.0  1.271071  1.102205"
      ]
     },
     "execution_count": 41,
     "metadata": {},
     "output_type": "execute_result"
    }
   ],
   "source": [
    "pd.DataFrame(X).head()"
   ]
  },
  {
   "cell_type": "code",
   "execution_count": 42,
   "metadata": {
    "collapsed": true
   },
   "outputs": [],
   "source": [
    "def MSE(y_pred,y):\n",
    "    sum_errors_sq = np.sum((y_pred - y)**2)\n",
    "    return sum_errors_sq/(2*len(y))"
   ]
  },
  {
   "cell_type": "code",
   "execution_count": 43,
   "metadata": {
    "collapsed": true
   },
   "outputs": [],
   "source": [
    "def gradientDescent(X,y, theta, eta, iters):\n",
    "    error_list = []\n",
    "    \n",
    "    for i in range(iters):\n",
    "        # Calculate prediction with current parameters \n",
    "        y_pred = X.dot(theta.T)\n",
    "        # Calculate MSE\n",
    "        error = MSE(y_pred , y)\n",
    "        # and append it to the list of errors \n",
    "        error_list.append(error)\n",
    "        \n",
    "        # Multiply error with each x_i^j \n",
    "        # ∑(y^ - y).x_j^i\n",
    "        term = (y_pred-y)*X\n",
    "        term = np.sum(((y_pred-y)*X), axis = 0)\n",
    "        # Weight Update\n",
    "        theta = theta - (eta/len(X))*term\n",
    "    \n",
    "    return error_list, theta"
   ]
  },
  {
   "cell_type": "code",
   "execution_count": 44,
   "metadata": {
    "collapsed": true
   },
   "outputs": [],
   "source": [
    "# y_pred = X.dot(theta.T)\n",
    "# error = MSE(y_pred , y)\n",
    "# term = (y_pred-y)*X\n",
    "# term = np.sum(((y_pred-y)*X), axis = 0)\n",
    "# # Weight Update\n",
    "# theta = theta - (eta/len(X))*term\n",
    "# theta"
   ]
  },
  {
   "cell_type": "code",
   "execution_count": 45,
   "metadata": {},
   "outputs": [
    {
     "data": {
      "text/plain": [
       "array([[ 340397.96353532,  108742.65627238,   -5873.22993383]])"
      ]
     },
     "execution_count": 45,
     "metadata": {},
     "output_type": "execute_result"
    }
   ],
   "source": [
    "error_list, theta = gradientDescent(X, y, theta, eta = 0.01, iters = 1000)\n",
    "theta"
   ]
  },
  {
   "cell_type": "code",
   "execution_count": 46,
   "metadata": {},
   "outputs": [
    {
     "data": {
      "text/plain": [
       "array([ 375400.2975652])"
      ]
     },
     "execution_count": 46,
     "metadata": {},
     "output_type": "execute_result"
    }
   ],
   "source": [
    "predict(np.array([1,0.31,-0.22]),theta)"
   ]
  },
  {
   "cell_type": "code",
   "execution_count": 47,
   "metadata": {},
   "outputs": [
    {
     "data": {
      "text/plain": [
       "array([399900])"
      ]
     },
     "execution_count": 47,
     "metadata": {},
     "output_type": "execute_result"
    }
   ],
   "source": [
    "y[0]"
   ]
  },
  {
   "cell_type": "code",
   "execution_count": 48,
   "metadata": {},
   "outputs": [
    {
     "data": {
      "text/html": [
       "<div>\n",
       "<style>\n",
       "    .dataframe thead tr:only-child th {\n",
       "        text-align: right;\n",
       "    }\n",
       "\n",
       "    .dataframe thead th {\n",
       "        text-align: left;\n",
       "    }\n",
       "\n",
       "    .dataframe tbody tr th {\n",
       "        vertical-align: top;\n",
       "    }\n",
       "</style>\n",
       "<table border=\"1\" class=\"dataframe\">\n",
       "  <thead>\n",
       "    <tr style=\"text-align: right;\">\n",
       "      <th></th>\n",
       "      <th>0</th>\n",
       "      <th>1</th>\n",
       "      <th>2</th>\n",
       "      <th>3</th>\n",
       "    </tr>\n",
       "  </thead>\n",
       "  <tbody>\n",
       "    <tr>\n",
       "      <th>0</th>\n",
       "      <td>1.0</td>\n",
       "      <td>-1.461049</td>\n",
       "      <td>-2.882690</td>\n",
       "      <td>198450.276440</td>\n",
       "    </tr>\n",
       "    <tr>\n",
       "      <th>1</th>\n",
       "      <td>1.0</td>\n",
       "      <td>-1.360788</td>\n",
       "      <td>-2.767186</td>\n",
       "      <td>208674.627668</td>\n",
       "    </tr>\n",
       "    <tr>\n",
       "      <th>2</th>\n",
       "      <td>1.0</td>\n",
       "      <td>-1.260526</td>\n",
       "      <td>-2.651682</td>\n",
       "      <td>218898.978896</td>\n",
       "    </tr>\n",
       "    <tr>\n",
       "      <th>3</th>\n",
       "      <td>1.0</td>\n",
       "      <td>-1.160264</td>\n",
       "      <td>-2.536178</td>\n",
       "      <td>229123.330123</td>\n",
       "    </tr>\n",
       "    <tr>\n",
       "      <th>4</th>\n",
       "      <td>1.0</td>\n",
       "      <td>-1.060002</td>\n",
       "      <td>-2.420674</td>\n",
       "      <td>239347.681351</td>\n",
       "    </tr>\n",
       "  </tbody>\n",
       "</table>\n",
       "</div>"
      ],
      "text/plain": [
       "     0         1         2              3\n",
       "0  1.0 -1.461049 -2.882690  198450.276440\n",
       "1  1.0 -1.360788 -2.767186  208674.627668\n",
       "2  1.0 -1.260526 -2.651682  218898.978896\n",
       "3  1.0 -1.160264 -2.536178  229123.330123\n",
       "4  1.0 -1.060002 -2.420674  239347.681351"
      ]
     },
     "execution_count": 48,
     "metadata": {},
     "output_type": "execute_result"
    }
   ],
   "source": [
    "x1 = np.linspace(X[:,1].min(), X[:,1].max(), len(X))\n",
    "x2 = np.linspace(X[:,2].min(), X[:,2].max(), len(X))\n",
    "x0 = np.ones(len(X))\n",
    "X_new = np.c_[x0,x1,x2]\n",
    "z_new = predict(X_new, theta).reshape(47,)\n",
    "pd.DataFrame(np.c_[X_new, z_new]).head()"
   ]
  },
  {
   "cell_type": "code",
   "execution_count": 49,
   "metadata": {},
   "outputs": [
    {
     "data": {
      "text/plain": [
       "(794.70235353388966, 852)"
      ]
     },
     "execution_count": 49,
     "metadata": {},
     "output_type": "execute_result"
    }
   ],
   "source": [
    "data2[\"Size\"].std(), data2[\"Size\"].min(), "
   ]
  },
  {
   "cell_type": "code",
   "execution_count": 50,
   "metadata": {},
   "outputs": [
    {
     "data": {
      "text/html": [
       "<div>\n",
       "<style>\n",
       "    .dataframe thead tr:only-child th {\n",
       "        text-align: right;\n",
       "    }\n",
       "\n",
       "    .dataframe thead th {\n",
       "        text-align: left;\n",
       "    }\n",
       "\n",
       "    .dataframe tbody tr th {\n",
       "        vertical-align: top;\n",
       "    }\n",
       "</style>\n",
       "<table border=\"1\" class=\"dataframe\">\n",
       "  <thead>\n",
       "    <tr style=\"text-align: right;\">\n",
       "      <th></th>\n",
       "      <th>0</th>\n",
       "    </tr>\n",
       "  </thead>\n",
       "  <tbody>\n",
       "    <tr>\n",
       "      <th>0</th>\n",
       "      <td>839.581468</td>\n",
       "    </tr>\n",
       "    <tr>\n",
       "      <th>1</th>\n",
       "      <td>919.259753</td>\n",
       "    </tr>\n",
       "    <tr>\n",
       "      <th>2</th>\n",
       "      <td>998.938039</td>\n",
       "    </tr>\n",
       "    <tr>\n",
       "      <th>3</th>\n",
       "      <td>1078.616325</td>\n",
       "    </tr>\n",
       "    <tr>\n",
       "      <th>4</th>\n",
       "      <td>1158.294610</td>\n",
       "    </tr>\n",
       "  </tbody>\n",
       "</table>\n",
       "</div>"
      ],
      "text/plain": [
       "             0\n",
       "0   839.581468\n",
       "1   919.259753\n",
       "2   998.938039\n",
       "3  1078.616325\n",
       "4  1158.294610"
      ]
     },
     "execution_count": 50,
     "metadata": {},
     "output_type": "execute_result"
    }
   ],
   "source": [
    "# Unscaling the features x1 for visualisations\n",
    "x1 = (x1*data2[\"Size\"].std()) + data2[\"Size\"].mean()\n",
    "pd.DataFrame(x1).head()"
   ]
  },
  {
   "cell_type": "code",
   "execution_count": 51,
   "metadata": {},
   "outputs": [
    {
     "data": {
      "text/html": [
       "<div>\n",
       "<style>\n",
       "    .dataframe thead tr:only-child th {\n",
       "        text-align: right;\n",
       "    }\n",
       "\n",
       "    .dataframe thead th {\n",
       "        text-align: left;\n",
       "    }\n",
       "\n",
       "    .dataframe tbody tr th {\n",
       "        vertical-align: top;\n",
       "    }\n",
       "</style>\n",
       "<table border=\"1\" class=\"dataframe\">\n",
       "  <thead>\n",
       "    <tr style=\"text-align: right;\">\n",
       "      <th></th>\n",
       "      <th>0</th>\n",
       "    </tr>\n",
       "  </thead>\n",
       "  <tbody>\n",
       "    <tr>\n",
       "      <th>0</th>\n",
       "      <td>0.976538</td>\n",
       "    </tr>\n",
       "    <tr>\n",
       "      <th>1</th>\n",
       "      <td>1.064434</td>\n",
       "    </tr>\n",
       "    <tr>\n",
       "      <th>2</th>\n",
       "      <td>1.152331</td>\n",
       "    </tr>\n",
       "    <tr>\n",
       "      <th>3</th>\n",
       "      <td>1.240227</td>\n",
       "    </tr>\n",
       "    <tr>\n",
       "      <th>4</th>\n",
       "      <td>1.328124</td>\n",
       "    </tr>\n",
       "  </tbody>\n",
       "</table>\n",
       "</div>"
      ],
      "text/plain": [
       "          0\n",
       "0  0.976538\n",
       "1  1.064434\n",
       "2  1.152331\n",
       "3  1.240227\n",
       "4  1.328124"
      ]
     },
     "execution_count": 51,
     "metadata": {},
     "output_type": "execute_result"
    }
   ],
   "source": [
    "# Unscaling x2 for visualisations:  \n",
    "x2 = (x2*data2[\"Bedroom\"].std()) + data2[\"Bedroom\"].mean()\n",
    "pd.DataFrame(x2).head()"
   ]
  },
  {
   "cell_type": "code",
   "execution_count": 52,
   "metadata": {},
   "outputs": [
    {
     "data": {
      "text/html": [
       "<div>\n",
       "<style>\n",
       "    .dataframe thead tr:only-child th {\n",
       "        text-align: right;\n",
       "    }\n",
       "\n",
       "    .dataframe thead th {\n",
       "        text-align: left;\n",
       "    }\n",
       "\n",
       "    .dataframe tbody tr th {\n",
       "        vertical-align: top;\n",
       "    }\n",
       "</style>\n",
       "<table border=\"1\" class=\"dataframe\">\n",
       "  <thead>\n",
       "    <tr style=\"text-align: right;\">\n",
       "      <th></th>\n",
       "      <th>0</th>\n",
       "      <th>1</th>\n",
       "      <th>2</th>\n",
       "    </tr>\n",
       "  </thead>\n",
       "  <tbody>\n",
       "    <tr>\n",
       "      <th>17</th>\n",
       "      <td>2194.112324</td>\n",
       "      <td>2.470780</td>\n",
       "      <td>372264.247312</td>\n",
       "    </tr>\n",
       "    <tr>\n",
       "      <th>37</th>\n",
       "      <td>3787.678036</td>\n",
       "      <td>4.228712</td>\n",
       "      <td>576751.271867</td>\n",
       "    </tr>\n",
       "    <tr>\n",
       "      <th>13</th>\n",
       "      <td>1875.399181</td>\n",
       "      <td>2.119194</td>\n",
       "      <td>331366.842401</td>\n",
       "    </tr>\n",
       "    <tr>\n",
       "      <th>38</th>\n",
       "      <td>3867.356322</td>\n",
       "      <td>4.316609</td>\n",
       "      <td>586975.623094</td>\n",
       "    </tr>\n",
       "    <tr>\n",
       "      <th>30</th>\n",
       "      <td>3229.930037</td>\n",
       "      <td>3.613436</td>\n",
       "      <td>505180.813272</td>\n",
       "    </tr>\n",
       "  </tbody>\n",
       "</table>\n",
       "</div>"
      ],
      "text/plain": [
       "              0         1              2\n",
       "17  2194.112324  2.470780  372264.247312\n",
       "37  3787.678036  4.228712  576751.271867\n",
       "13  1875.399181  2.119194  331366.842401\n",
       "38  3867.356322  4.316609  586975.623094\n",
       "30  3229.930037  3.613436  505180.813272"
      ]
     },
     "execution_count": 52,
     "metadata": {},
     "output_type": "execute_result"
    }
   ],
   "source": [
    "pd.DataFrame(np.c_[x1,x2,z_new]).sample(frac=5/47)"
   ]
  },
  {
   "cell_type": "code",
   "execution_count": 53,
   "metadata": {},
   "outputs": [
    {
     "data": {
      "text/plain": [
       "((47,), (47,), (47,))"
      ]
     },
     "execution_count": 53,
     "metadata": {},
     "output_type": "execute_result"
    }
   ],
   "source": [
    "x1.shape, x2.shape, z_new.shape"
   ]
  },
  {
   "cell_type": "code",
   "execution_count": 54,
   "metadata": {},
   "outputs": [
    {
     "data": {
      "text/plain": [
       "<matplotlib.text.Text at 0x113230748>"
      ]
     },
     "execution_count": 54,
     "metadata": {},
     "output_type": "execute_result"
    },
    {
     "data": {
      "image/png": "[encoded data removed]",
      "text/plain": [
       "<matplotlib.figure.Figure at 0x111fb4128>"
      ]
     },
     "metadata": {},
     "output_type": "display_data"
    }
   ],
   "source": [
    "x = np.array(data2[\"Size\"])\n",
    "y = np.array(data2[\"Bedroom\"])\n",
    "z = np.array(data2[\"Price\"])\n",
    "\n",
    "x.shape, y.shape, z.shape\n",
    "fig = plt.figure(figsize = (11,6))\n",
    "ax = fig.gca(projection='3d')\n",
    "ax.scatter(x, y, z, c= \"r\", depthshade = False)\n",
    "ax.plot(x1,x2,z_new, c = \"c\")\n",
    "\n",
    "ax.set_xlabel(\"Size\", fontsize = 20)\n",
    "ax.set_ylabel(\"Bedroom\", fontsize = 20)\n",
    "ax.set_zlabel(\"Price\",rotation = 90 ,fontsize = 20 )"
   ]
  },
  {
   "cell_type": "markdown",
   "metadata": {},
   "source": [
    "### Taking a loot at the training process: "
   ]
  },
  {
   "cell_type": "code",
   "execution_count": 55,
   "metadata": {},
   "outputs": [
    {
     "data": {
      "text/plain": [
       "[<matplotlib.lines.Line2D at 0x11205c1d0>]"
      ]
     },
     "execution_count": 55,
     "metadata": {},
     "output_type": "execute_result"
    },
    {
     "data": {
      "image/png": "[encoded data removed]",
      "text/plain": [
       "<matplotlib.figure.Figure at 0x113162860>"
      ]
     },
     "metadata": {},
     "output_type": "display_data"
    }
   ],
   "source": [
    "plt.plot(list(range(1000)), error_list, \"r--\")"
   ]
  },
  {
   "cell_type": "markdown",
   "metadata": {},
   "source": [
    "## Implementing the same in SkLearn: \n"
   ]
  },
  {
   "cell_type": "code",
   "execution_count": 56,
   "metadata": {},
   "outputs": [
    {
     "data": {
      "text/html": [
       "<div>\n",
       "<style>\n",
       "    .dataframe thead tr:only-child th {\n",
       "        text-align: right;\n",
       "    }\n",
       "\n",
       "    .dataframe thead th {\n",
       "        text-align: left;\n",
       "    }\n",
       "\n",
       "    .dataframe tbody tr th {\n",
       "        vertical-align: top;\n",
       "    }\n",
       "</style>\n",
       "<table border=\"1\" class=\"dataframe\">\n",
       "  <thead>\n",
       "    <tr style=\"text-align: right;\">\n",
       "      <th></th>\n",
       "      <th>Size</th>\n",
       "      <th>Bedroom</th>\n",
       "      <th>Price</th>\n",
       "    </tr>\n",
       "  </thead>\n",
       "  <tbody>\n",
       "    <tr>\n",
       "      <th>0</th>\n",
       "      <td>2104</td>\n",
       "      <td>3</td>\n",
       "      <td>399900</td>\n",
       "    </tr>\n",
       "    <tr>\n",
       "      <th>1</th>\n",
       "      <td>1600</td>\n",
       "      <td>3</td>\n",
       "      <td>329900</td>\n",
       "    </tr>\n",
       "    <tr>\n",
       "      <th>2</th>\n",
       "      <td>2400</td>\n",
       "      <td>3</td>\n",
       "      <td>369000</td>\n",
       "    </tr>\n",
       "    <tr>\n",
       "      <th>3</th>\n",
       "      <td>1416</td>\n",
       "      <td>2</td>\n",
       "      <td>232000</td>\n",
       "    </tr>\n",
       "    <tr>\n",
       "      <th>4</th>\n",
       "      <td>3000</td>\n",
       "      <td>4</td>\n",
       "      <td>539900</td>\n",
       "    </tr>\n",
       "  </tbody>\n",
       "</table>\n",
       "</div>"
      ],
      "text/plain": [
       "   Size  Bedroom   Price\n",
       "0  2104        3  399900\n",
       "1  1600        3  329900\n",
       "2  2400        3  369000\n",
       "3  1416        2  232000\n",
       "4  3000        4  539900"
      ]
     },
     "execution_count": 56,
     "metadata": {},
     "output_type": "execute_result"
    }
   ],
   "source": [
    "path = path = os.path.join(os.getcwd(),\"data\",\"ex1data2.txt\")\n",
    "data2 = pd.read_csv(path, header = None, names = [\"Size\", \n",
    "                                                 \"Bedroom\",\n",
    "                                                 \"Price\"])\n",
    "data2.head()"
   ]
  },
  {
   "cell_type": "code",
   "execution_count": 57,
   "metadata": {},
   "outputs": [
    {
     "data": {
      "text/plain": [
       "((47, 3), (47,))"
      ]
     },
     "execution_count": 57,
     "metadata": {},
     "output_type": "execute_result"
    }
   ],
   "source": [
    "x1x2 = data2.iloc[:,:2].values\n",
    "x0 = np.ones(len(x1x2))\n",
    "X = np.c_[x0, x1x2]\n",
    "y = data2.iloc[:,2].values\n",
    "X.shape, y.shape"
   ]
  },
  {
   "cell_type": "code",
   "execution_count": 58,
   "metadata": {},
   "outputs": [
    {
     "data": {
      "text/plain": [
       "Pipeline(steps=[('scaler', StandardScaler(copy=True, with_mean=True, with_std=True)), ('linear_model', LinearRegression(copy_X=True, fit_intercept=True, n_jobs=1, normalize=False))])"
      ]
     },
     "execution_count": 58,
     "metadata": {},
     "output_type": "execute_result"
    }
   ],
   "source": [
    "from sklearn.linear_model import LinearRegression\n",
    "from sklearn.preprocessing import StandardScaler\n",
    "from sklearn.pipeline import Pipeline\n",
    "\n",
    "lin_reg = LinearRegression()\n",
    "\n",
    "scaled_lin_reg = Pipeline([\n",
    "    (\"scaler\", StandardScaler()),\n",
    "    (\"linear_model\", lin_reg)])\n",
    "\n",
    "scaled_lin_reg.fit(X,y)"
   ]
  },
  {
   "cell_type": "code",
   "execution_count": 59,
   "metadata": {},
   "outputs": [
    {
     "data": {
      "text/plain": [
       "array([      0.        ,  109447.79646964,   -6578.35485416])"
      ]
     },
     "execution_count": 59,
     "metadata": {},
     "output_type": "execute_result"
    }
   ],
   "source": [
    "lin_reg.coef_"
   ]
  },
  {
   "cell_type": "code",
   "execution_count": null,
   "metadata": {
    "collapsed": true
   },
   "outputs": [],
   "source": [
    "lin_reg.intercept_"
   ]
  },
  {
   "cell_type": "code",
   "execution_count": null,
   "metadata": {
    "collapsed": true
   },
   "outputs": [],
   "source": [
    "lin_reg.predict([1,0.31,-0.22])"
   ]
  },
  {
   "cell_type": "code",
   "execution_count": null,
   "metadata": {
    "collapsed": true
   },
   "outputs": [],
   "source": [
    "y[0]"
   ]
  },
  {
   "cell_type": "code",
   "execution_count": null,
   "metadata": {
    "collapsed": true
   },
   "outputs": [],
   "source": []
  }
 ],
 "metadata": {
  "kernelspec": {
   "display_name": "Python 3",
   "language": "python",
   "name": "python3"
  },
  "language_info": {
   "codemirror_mode": {
    "name": "ipython",
    "version": 3
   },
   "file_extension": ".py",
   "mimetype": "text/x-python",
   "name": "python",
   "nbconvert_exporter": "python",
   "pygments_lexer": "ipython3",
   "version": "3.6.1"
  }
 },
 "nbformat": 4,
 "nbformat_minor": 2
}
