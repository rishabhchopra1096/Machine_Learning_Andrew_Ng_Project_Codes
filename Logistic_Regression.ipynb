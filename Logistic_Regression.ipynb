{
 "cells": [
  {
   "cell_type": "code",
   "execution_count": 97,
   "metadata": {
    "collapsed": true
   },
   "outputs": [],
   "source": [
    "import numpy as np\n",
    "import pandas as pd\n",
    "import matplotlib.pyplot as plt\n",
    "%matplotlib inline"
   ]
  },
  {
   "cell_type": "code",
   "execution_count": 99,
   "metadata": {},
   "outputs": [
    {
     "data": {
      "text/html": [
       "<div>\n",
       "<style>\n",
       "    .dataframe thead tr:only-child th {\n",
       "        text-align: right;\n",
       "    }\n",
       "\n",
       "    .dataframe thead th {\n",
       "        text-align: left;\n",
       "    }\n",
       "\n",
       "    .dataframe tbody tr th {\n",
       "        vertical-align: top;\n",
       "    }\n",
       "</style>\n",
       "<table border=\"1\" class=\"dataframe\">\n",
       "  <thead>\n",
       "    <tr style=\"text-align: right;\">\n",
       "      <th></th>\n",
       "      <th>Exam1</th>\n",
       "      <th>Exam2</th>\n",
       "      <th>Admitted</th>\n",
       "    </tr>\n",
       "  </thead>\n",
       "  <tbody>\n",
       "    <tr>\n",
       "      <th>37</th>\n",
       "      <td>64.176989</td>\n",
       "      <td>80.908061</td>\n",
       "      <td>1</td>\n",
       "    </tr>\n",
       "    <tr>\n",
       "      <th>81</th>\n",
       "      <td>94.834507</td>\n",
       "      <td>45.694307</td>\n",
       "      <td>1</td>\n",
       "    </tr>\n",
       "    <tr>\n",
       "      <th>39</th>\n",
       "      <td>34.183640</td>\n",
       "      <td>75.237720</td>\n",
       "      <td>0</td>\n",
       "    </tr>\n",
       "    <tr>\n",
       "      <th>61</th>\n",
       "      <td>35.286113</td>\n",
       "      <td>47.020514</td>\n",
       "      <td>0</td>\n",
       "    </tr>\n",
       "  </tbody>\n",
       "</table>\n",
       "</div>"
      ],
      "text/plain": [
       "        Exam1      Exam2  Admitted\n",
       "37  64.176989  80.908061         1\n",
       "81  94.834507  45.694307         1\n",
       "39  34.183640  75.237720         0\n",
       "61  35.286113  47.020514         0"
      ]
     },
     "execution_count": 99,
     "metadata": {},
     "output_type": "execute_result"
    }
   ],
   "source": [
    "import os\n",
    "path = os.path.join(os.getcwd(),\"data\" ,\"ex2data1.txt\")\n",
    "data = pd.read_csv(path, header = None, names = [\"Exam1\",\n",
    "                                                \"Exam2\",\n",
    "                                                \"Admitted\"])\n",
    "data.sample(frac = 4/100, random_state = 65)"
   ]
  },
  {
   "cell_type": "code",
   "execution_count": 100,
   "metadata": {},
   "outputs": [
    {
     "data": {
      "text/plain": [
       "<matplotlib.legend.Legend at 0x11c126f60>"
      ]
     },
     "execution_count": 100,
     "metadata": {},
     "output_type": "execute_result"
    },
    {
     "data": {
      "image/png": "[encoded data removed]",
      "text/plain": [
       "<matplotlib.figure.Figure at 0x11b702978>"
      ]
     },
     "metadata": {},
     "output_type": "display_data"
    }
   ],
   "source": [
    "positive = data[data[\"Admitted\"]==1]\n",
    "negative = data[data[\"Admitted\"]==0]\n",
    "\n",
    "plt.figure(figsize = (12,8))\n",
    "plt.scatter(positive['Exam1'], positive[\"Exam2\"],\n",
    "           s = 60, marker = \"o\", label = \"Admitted\",\n",
    "           alpha = 1, c =\"b\")\n",
    "plt.scatter(negative[\"Exam1\"], negative[\"Exam2\"],\n",
    "           s = 60, marker = \"x\", label = \"Not Admitted\",\n",
    "           alpha = 1, c = 'r')\n",
    "plt.xlabel(\"Exam 1 Score\", fontsize = 25)\n",
    "plt.ylabel(\"Exam 2 Score\", rotation = 0, fontsize = 25,\n",
    "          ha = \"right\")\n",
    "plt.legend(fontsize = 18)\n"
   ]
  },
  {
   "cell_type": "markdown",
   "metadata": {},
   "source": [
    "sigmoid function,\n",
    "cost function,\n",
    "ready ,\n",
    "theta,\n",
    "gradient descent"
   ]
  },
  {
   "cell_type": "markdown",
   "metadata": {},
   "source": [
    "## Sigmoid/Logistic Function: \n",
    "# $\\frac{1}{1 + e^{-\\theta^T.X}}$"
   ]
  },
  {
   "cell_type": "code",
   "execution_count": 101,
   "metadata": {
    "collapsed": true
   },
   "outputs": [],
   "source": [
    "def sigmoid(z): \n",
    "    return 1/(1 + np.exp(-z))"
   ]
  },
  {
   "cell_type": "markdown",
   "metadata": {},
   "source": [
    "Making Sure that the Sigmoid function is working well. "
   ]
  },
  {
   "cell_type": "code",
   "execution_count": 102,
   "metadata": {},
   "outputs": [
    {
     "data": {
      "text/plain": [
       "[-10, 10, -0.1, 1.1]"
      ]
     },
     "execution_count": 102,
     "metadata": {},
     "output_type": "execute_result"
    },
    {
     "data": {
      "image/png": "[encoded data removed]",
      "text/plain": [
       "<matplotlib.figure.Figure at 0x11bfe2a20>"
      ]
     },
     "metadata": {},
     "output_type": "display_data"
    }
   ],
   "source": [
    "sample_z = np.linspace(-10,10,20)\n",
    "g_z = sigmoid(sample_z)\n",
    "plt.plot(sample_z, g_z, \"c--\")\n",
    "plt.axis([-10,10,-0.1,1.1])"
   ]
  },
  {
   "cell_type": "markdown",
   "metadata": {},
   "source": [
    "## Cost Function For Logistic Regression:\n",
    "### $-\\frac{1}{m}\\sum_{i=1}^m y^ilog(\\frac{1}{1 + e^{-\\theta^T.x^i}}) - (1 - y^i)(log(1 - (\\frac{1}{1 + e^{-\\theta^T.x^i}})) $"
   ]
  },
  {
   "cell_type": "code",
   "execution_count": 103,
   "metadata": {},
   "outputs": [
    {
     "data": {
      "text/html": [
       "<div>\n",
       "<style>\n",
       "    .dataframe thead tr:only-child th {\n",
       "        text-align: right;\n",
       "    }\n",
       "\n",
       "    .dataframe thead th {\n",
       "        text-align: left;\n",
       "    }\n",
       "\n",
       "    .dataframe tbody tr th {\n",
       "        vertical-align: top;\n",
       "    }\n",
       "</style>\n",
       "<table border=\"1\" class=\"dataframe\">\n",
       "  <thead>\n",
       "    <tr style=\"text-align: right;\">\n",
       "      <th></th>\n",
       "      <th>x0</th>\n",
       "      <th>Exam1</th>\n",
       "      <th>Exam2</th>\n",
       "    </tr>\n",
       "  </thead>\n",
       "  <tbody>\n",
       "    <tr>\n",
       "      <th>37</th>\n",
       "      <td>1.0</td>\n",
       "      <td>64.176989</td>\n",
       "      <td>80.908061</td>\n",
       "    </tr>\n",
       "    <tr>\n",
       "      <th>81</th>\n",
       "      <td>1.0</td>\n",
       "      <td>94.834507</td>\n",
       "      <td>45.694307</td>\n",
       "    </tr>\n",
       "    <tr>\n",
       "      <th>39</th>\n",
       "      <td>1.0</td>\n",
       "      <td>34.183640</td>\n",
       "      <td>75.237720</td>\n",
       "    </tr>\n",
       "    <tr>\n",
       "      <th>61</th>\n",
       "      <td>1.0</td>\n",
       "      <td>35.286113</td>\n",
       "      <td>47.020514</td>\n",
       "    </tr>\n",
       "  </tbody>\n",
       "</table>\n",
       "</div>"
      ],
      "text/plain": [
       "     x0      Exam1      Exam2\n",
       "37  1.0  64.176989  80.908061\n",
       "81  1.0  94.834507  45.694307\n",
       "39  1.0  34.183640  75.237720\n",
       "61  1.0  35.286113  47.020514"
      ]
     },
     "execution_count": 103,
     "metadata": {},
     "output_type": "execute_result"
    }
   ],
   "source": [
    "x1x2 = data.iloc[:,:2].values\n",
    "x0 = np.ones(len(x1x2))\n",
    "X = np.c_[x0, x1x2]\n",
    "pd.DataFrame(X, columns = [\"x0\", \"Exam1\", \"Exam2\"]).sample(\n",
    "    frac= 4/100, random_state = 65)"
   ]
  },
  {
   "cell_type": "code",
   "execution_count": 104,
   "metadata": {},
   "outputs": [
    {
     "data": {
      "text/plain": [
       "((100, 3), (100, 1))"
      ]
     },
     "execution_count": 104,
     "metadata": {},
     "output_type": "execute_result"
    }
   ],
   "source": [
    "y = data.iloc[:,2].values.reshape(-1,1)\n",
    "X.shape, y.shape"
   ]
  },
  {
   "cell_type": "code",
   "execution_count": 105,
   "metadata": {},
   "outputs": [
    {
     "data": {
      "text/plain": [
       "array([[ 0.,  0.,  0.]])"
      ]
     },
     "execution_count": 105,
     "metadata": {},
     "output_type": "execute_result"
    }
   ],
   "source": [
    "# Intializing Theta: \n",
    "theta = np.zeros((1,3))\n",
    "theta"
   ]
  },
  {
   "cell_type": "code",
   "execution_count": 106,
   "metadata": {},
   "outputs": [
    {
     "data": {
      "text/plain": [
       "'\\nsample_z = X.dot(theta.T)\\nsample_z.shape\\n'"
      ]
     },
     "execution_count": 106,
     "metadata": {},
     "output_type": "execute_result"
    }
   ],
   "source": [
    "\"\"\"\n",
    "sample_z = X.dot(theta.T)\n",
    "sample_z.shape\n",
    "\"\"\"\n",
    "# >> (100,1)"
   ]
  },
  {
   "cell_type": "code",
   "execution_count": 107,
   "metadata": {},
   "outputs": [
    {
     "data": {
      "text/plain": [
       "'\\nsample_g_z = sigmoid(sample_z)\\nsample_g_z.shape\\n'"
      ]
     },
     "execution_count": 107,
     "metadata": {},
     "output_type": "execute_result"
    }
   ],
   "source": [
    "\"\"\"\n",
    "sample_g_z = sigmoid(sample_z)\n",
    "sample_g_z.shape\n",
    "\"\"\"\n",
    "# >> (100, 1)"
   ]
  },
  {
   "cell_type": "code",
   "execution_count": 108,
   "metadata": {
    "collapsed": true
   },
   "outputs": [],
   "source": [
    "# Checking if cost function is working right: \n",
    "# theta = np.array([-25.87355624,0.21193682,0.20722586])"
   ]
  },
  {
   "cell_type": "code",
   "execution_count": 109,
   "metadata": {},
   "outputs": [
    {
     "data": {
      "text/plain": [
       "True"
      ]
     },
     "execution_count": 109,
     "metadata": {},
     "output_type": "execute_result"
    }
   ],
   "source": [
    "# Proving that np.mulitply is the same as using *\n",
    "t = np.arange(100).reshape(-1,1)\n",
    "u = np.arange(100).reshape(-1,1)\n",
    "(t*u == np.multiply(t,u)).all()"
   ]
  },
  {
   "cell_type": "code",
   "execution_count": 110,
   "metadata": {
    "collapsed": true
   },
   "outputs": [],
   "source": [
    "def Cost(X, y, theta):\n",
    "    m = len(X)\n",
    "    z = X.dot(theta.T)\n",
    "    g_z = sigmoid(z).reshape(-1,1)\n",
    "    g_z.shape\n",
    "    term1 = -y*(np.log(g_z))\n",
    "    # pd.DataFrame(np.c_[term1,y]).sample(frac = 4/100, random_state = 65)\n",
    "    term2 = (1 - y)*(np.log(1 - g_z))\n",
    "    # pd.DataFrame(np.c_[term2,y]).sample(frac = 4/100, random_state = 65)\n",
    "    cost = np.sum(term1 - term2)/m\n",
    "    return cost\n"
   ]
  },
  {
   "cell_type": "code",
   "execution_count": 111,
   "metadata": {},
   "outputs": [
    {
     "data": {
      "text/plain": [
       "0.20357134412017033"
      ]
     },
     "execution_count": 111,
     "metadata": {},
     "output_type": "execute_result"
    }
   ],
   "source": [
    "# See whether cost function wors right with optimal\n",
    "# parameters: \n",
    "Cost(X, y, np.array([-25.87355624, 0.21193682, 0.20722586]))"
   ]
  },
  {
   "cell_type": "markdown",
   "metadata": {},
   "source": [
    "## Gradient Descent Steps: \n",
    "# $\\theta_j := \\theta_j - \\eta*\\sum_{i=1}^m(\\frac{1}{1 + e^{-\\theta^T.x^i}} - y^i).x_j^i $"
   ]
  },
  {
   "cell_type": "code",
   "execution_count": 112,
   "metadata": {},
   "outputs": [
    {
     "data": {
      "text/plain": [
       "(100, 1)"
      ]
     },
     "execution_count": 112,
     "metadata": {},
     "output_type": "execute_result"
    }
   ],
   "source": [
    "z = X.dot(theta.T)\n",
    "g_z = sigmoid(z)\n",
    "g_z.shape"
   ]
  },
  {
   "cell_type": "code",
   "execution_count": 113,
   "metadata": {},
   "outputs": [
    {
     "data": {
      "text/plain": [
       "(100, 3)"
      ]
     },
     "execution_count": 113,
     "metadata": {},
     "output_type": "execute_result"
    }
   ],
   "source": [
    "X.shape"
   ]
  },
  {
   "cell_type": "code",
   "execution_count": 114,
   "metadata": {},
   "outputs": [
    {
     "data": {
      "text/plain": [
       "array([[  0.5       ,  17.31182981,  39.01234641],\n",
       "       [  0.5       ,  15.14335538,  21.94749876],\n",
       "       [  0.5       ,  17.92370438,  36.45109901],\n",
       "       [ -0.5       , -30.09129969, -43.15427605],\n",
       "       [ -0.5       , -39.51636803, -37.67218822],\n",
       "       [  0.5       ,  22.54163874,  28.15818589],\n",
       "       [ -0.5       , -30.55333227, -48.25571294],\n",
       "       [ -0.5       , -37.51237278, -23.27700677],\n",
       "       [ -0.5       , -38.04939335, -43.71028486],\n",
       "       [ -0.5       , -42.21640998, -21.76669666],\n",
       "       [  0.5       ,  47.93077754,  19.11263903],\n",
       "       [  0.5       ,  37.50682919,  15.30163162],\n",
       "       [ -0.5       , -41.15352669, -38.24098165],\n",
       "       [ -0.5       , -34.68229438, -48.85934598],\n",
       "       [  0.5       ,  19.76916957,  38.01840543],\n",
       "       [ -0.5       , -26.98552607, -44.60367507],\n",
       "       [ -0.5       , -34.53507203, -26.37023487],\n",
       "       [  0.5       ,  33.97342774,  23.33928705],\n",
       "       [ -0.5       , -35.33075478, -46.46356895],\n",
       "       [ -0.5       , -38.48939186, -23.78798182],\n",
       "       [  0.5       ,  33.68601377,  21.41921916],\n",
       "       [ -0.5       , -44.83838788, -32.89968296],\n",
       "       [  0.5       ,  25.26739414,  24.42790576],\n",
       "       [  0.5       ,  17.10603049,  22.1047643 ],\n",
       "       [ -0.5       , -38.96204573, -34.48618   ],\n",
       "       [ -0.5       , -31.13550684, -34.97722898],\n",
       "       [ -0.5       , -40.09509038, -22.41081447],\n",
       "       [  0.5       ,  46.5571944 ,  19.40033517],\n",
       "       [  0.5       ,  30.91510301,  25.12805395],\n",
       "       [  0.5       ,  19.3929019 ,  32.49784048],\n",
       "       [ -0.5       , -30.68964472, -36.40394366],\n",
       "       [ -0.5       , -42.7022597 , -28.52599199],\n",
       "       [  0.5       ,  26.05398987,  31.56381188],\n",
       "       [ -0.5       , -26.02270238, -34.71643006],\n",
       "       [  0.5       ,  20.11844687,  35.58387401],\n",
       "       [  0.5       ,  27.31755278,  26.10694294],\n",
       "       [  0.5       ,  16.95775005,  49.43471787],\n",
       "       [ -0.5       , -32.08849444, -40.45403029],\n",
       "       [  0.5       ,  37.39462648,  20.78670761],\n",
       "       [  0.5       ,  17.09182001,  37.61886017],\n",
       "       [ -0.5       , -41.95119683, -28.15402311],\n",
       "       [  0.5       ,  25.77386013,  23.42814513],\n",
       "       [ -0.5       , -47.22168388, -32.7844608 ],\n",
       "       [  0.5       ,  41.18437688,  20.30912758],\n",
       "       [  0.5       ,  25.52387589,  22.91135073],\n",
       "       [  0.5       ,  31.11133788,  26.03049597],\n",
       "       [ -0.5       , -38.59651746, -35.2291    ],\n",
       "       [ -0.5       , -48.88579964, -43.36391117],\n",
       "       [ -0.5       , -31.0365319 , -48.38441206],\n",
       "       [ -0.5       , -45.78248725, -44.34814627],\n",
       "       [ -0.5       , -39.97240897, -37.08155968],\n",
       "       [ -0.5       , -49.63626346, -30.4995155 ],\n",
       "       [ -0.5       , -45.27335706, -21.6953009 ],\n",
       "       [  0.5       ,  17.26225693,  30.19817123],\n",
       "       [  0.5       ,  25.14324806,  24.90226941],\n",
       "       [  0.5       ,  24.79333861,  29.9044755 ],\n",
       "       [ -0.5       , -48.82281698, -34.43078636],\n",
       "       [  0.5       ,  16.28860008,  47.79927381],\n",
       "       [ -0.5       , -37.12434568, -34.91228561],\n",
       "       [ -0.5       , -35.89823103, -39.22678112],\n",
       "       [ -0.5       , -37.69780573, -42.87996834],\n",
       "       [  0.5       ,  17.64305641,  23.51025697],\n",
       "       [  0.5       ,  28.12690875,  19.63073626],\n",
       "       [  0.5       ,  15.02941122,  24.79648693],\n",
       "       [  0.5       ,  22.33413086,  33.22504307],\n",
       "       [  0.5       ,  33.28044724,  20.54604904],\n",
       "       [ -0.5       , -20.22877549, -48.76759274],\n",
       "       [  0.5       ,  24.53628161,  25.94160591],\n",
       "       [ -0.5       , -40.13978701, -46.05803041],\n",
       "       [ -0.5       , -33.37335928, -30.49569701],\n",
       "       [  0.5       ,  16.36141652,  21.65358653],\n",
       "       [ -0.5       , -32.01966021, -39.01584401],\n",
       "       [ -0.5       , -36.17324711, -48.11379648],\n",
       "       [ -0.5       , -30.22894287, -36.54749905],\n",
       "       [ -0.5       , -29.42047811, -37.92922416],\n",
       "       [ -0.5       , -49.9139289 , -36.18462597],\n",
       "       [ -0.5       , -23.63213455, -44.2379325 ],\n",
       "       [ -0.5       , -25.2290799 , -37.90492976],\n",
       "       [  0.5       ,  30.22777815,  21.25420472],\n",
       "       [  0.5       ,  41.11333079,  21.35993927],\n",
       "       [ -0.5       , -44.45694821, -34.90189445],\n",
       "       [ -0.5       , -47.41725336, -22.8471534 ],\n",
       "       [ -0.5       , -33.65962873, -33.29467659],\n",
       "       [ -0.5       , -28.61935316, -29.75714099],\n",
       "       [ -0.5       , -40.183378  , -45.48007395],\n",
       "       [ -0.5       , -34.23426089, -42.79715355],\n",
       "       [  0.5       ,  21.03772727,  39.422393  ],\n",
       "       [ -0.5       , -37.738851  , -45.2122695 ],\n",
       "       [ -0.5       , -39.31771217, -48.32371358],\n",
       "       [  0.5       ,  26.17400199,  30.38475263],\n",
       "       [ -0.5       , -47.04716556, -38.57955255],\n",
       "       [ -0.5       , -45.22427549, -43.75439588],\n",
       "       [  0.5       ,  27.74108057,  17.78535174],\n",
       "       [ -0.5       , -37.24634621, -42.42256842],\n",
       "       [ -0.5       , -44.92290335, -22.67914181],\n",
       "       [ -0.5       , -41.74458137, -24.1901429 ],\n",
       "       [ -0.5       , -21.1308504 , -43.55192547],\n",
       "       [ -0.5       , -49.6575044 , -34.38770474],\n",
       "       [ -0.5       , -27.67000878, -32.465969  ],\n",
       "       [ -0.5       , -37.3879465 , -44.76490645]])"
      ]
     },
     "execution_count": 114,
     "metadata": {},
     "output_type": "execute_result"
    }
   ],
   "source": [
    "np.multiply((g_z - y),X)"
   ]
  },
  {
   "cell_type": "code",
   "execution_count": 15,
   "metadata": {
    "collapsed": true,
    "scrolled": true
   },
   "outputs": [],
   "source": [
    "def gradientDescent(X,y, theta, eta, iters):\n",
    "    error_list = []\n",
    "    \n",
    "    for i in range(iters):\n",
    "        # Calculate decision_scores \n",
    "        z = X.dot(theta.T)\n",
    "        # >> (100,1) array of decision scores,\n",
    "        # one for each instance.\n",
    "        \n",
    "        # Calcuate activation\n",
    "        g_z = sigmoid(z)\n",
    "        g_z.shape\n",
    "        # >> (100,1) array of activation values, \n",
    "        # one for each instance. \n",
    "        \n",
    "        # Calculate Cost\n",
    "        error = Cost(X, y, theta)\n",
    "        # and append it to the list of errors \n",
    "        error_list.append(error)\n",
    "        \n",
    "        # Multiply error with each x_i^j \n",
    "        # ∑(y^ - y).x_j^i\n",
    "        term = np.sum(np.multiply((g_z - y),X), axis = 0)\n",
    "        # >> (3)\n",
    "        \n",
    "        # Weight Update\n",
    "        theta = theta - (eta*term)\n",
    "    return error_list, theta"
   ]
  },
  {
   "cell_type": "code",
   "execution_count": 16,
   "metadata": {},
   "outputs": [
    {
     "data": {
      "text/plain": [
       "((100, 3), (100, 1), (1, 3))"
      ]
     },
     "execution_count": 16,
     "metadata": {},
     "output_type": "execute_result"
    }
   ],
   "source": [
    "X.shape, y.shape, theta.shape, "
   ]
  },
  {
   "cell_type": "code",
   "execution_count": 17,
   "metadata": {
    "collapsed": true
   },
   "outputs": [],
   "source": [
    "# Normalizing features:\n",
    "X[:,1] = (X[:,1] - X[:,1].mean())/ X[:,1].std()\n",
    "X[:,2] = (X[:,2] - X[:,2].mean())/ X[:,2].std()"
   ]
  },
  {
   "cell_type": "code",
   "execution_count": 18,
   "metadata": {
    "collapsed": true
   },
   "outputs": [],
   "source": [
    "error_list, theta = gradientDescent(X,y,theta, eta = 0.01, iters = 1000)"
   ]
  },
  {
   "cell_type": "code",
   "execution_count": 19,
   "metadata": {},
   "outputs": [
    {
     "data": {
      "text/plain": [
       "1000"
      ]
     },
     "execution_count": 19,
     "metadata": {},
     "output_type": "execute_result"
    }
   ],
   "source": [
    "len(error_list)"
   ]
  },
  {
   "cell_type": "code",
   "execution_count": 20,
   "metadata": {},
   "outputs": [
    {
     "data": {
      "text/plain": [
       "array([[ 1.71671348,  3.98908079,  3.72154954]])"
      ]
     },
     "execution_count": 20,
     "metadata": {},
     "output_type": "execute_result"
    }
   ],
   "source": [
    "theta"
   ]
  },
  {
   "cell_type": "code",
   "execution_count": 21,
   "metadata": {},
   "outputs": [
    {
     "data": {
      "text/plain": [
       "0.20349778840675828"
      ]
     },
     "execution_count": 21,
     "metadata": {},
     "output_type": "execute_result"
    }
   ],
   "source": [
    "error_list[-1]"
   ]
  },
  {
   "cell_type": "code",
   "execution_count": 22,
   "metadata": {},
   "outputs": [
    {
     "data": {
      "text/plain": [
       "[<matplotlib.lines.Line2D at 0x118f3d358>]"
      ]
     },
     "execution_count": 22,
     "metadata": {},
     "output_type": "execute_result"
    },
    {
     "data": {
      "image/png": "[encoded data removed]",
      "text/plain": [
       "<matplotlib.figure.Figure at 0x118cd26a0>"
      ]
     },
     "metadata": {},
     "output_type": "display_data"
    }
   ],
   "source": [
    "plt.plot(list(range(1000)), error_list, \"r--\")"
   ]
  },
  {
   "cell_type": "code",
   "execution_count": 23,
   "metadata": {
    "collapsed": true
   },
   "outputs": [],
   "source": [
    "def predict(theta, X):\n",
    "    z  = X.dot(theta.T)\n",
    "    g_z = sigmoid(z)\n",
    "    pred = []\n",
    "    for prob in g_z: \n",
    "        if prob >= 0.5:\n",
    "            pred.append(1)\n",
    "        else:\n",
    "            pred.append(0)\n",
    "    return np.array(pred)\n"
   ]
  },
  {
   "cell_type": "code",
   "execution_count": 24,
   "metadata": {},
   "outputs": [
    {
     "data": {
      "text/html": [
       "<div>\n",
       "<style>\n",
       "    .dataframe thead tr:only-child th {\n",
       "        text-align: right;\n",
       "    }\n",
       "\n",
       "    .dataframe thead th {\n",
       "        text-align: left;\n",
       "    }\n",
       "\n",
       "    .dataframe tbody tr th {\n",
       "        vertical-align: top;\n",
       "    }\n",
       "</style>\n",
       "<table border=\"1\" class=\"dataframe\">\n",
       "  <thead>\n",
       "    <tr style=\"text-align: right;\">\n",
       "      <th></th>\n",
       "      <th>0</th>\n",
       "      <th>1</th>\n",
       "    </tr>\n",
       "  </thead>\n",
       "  <tbody>\n",
       "    <tr>\n",
       "      <th>37</th>\n",
       "      <td>1</td>\n",
       "      <td>1</td>\n",
       "    </tr>\n",
       "    <tr>\n",
       "      <th>81</th>\n",
       "      <td>1</td>\n",
       "      <td>1</td>\n",
       "    </tr>\n",
       "    <tr>\n",
       "      <th>39</th>\n",
       "      <td>0</td>\n",
       "      <td>0</td>\n",
       "    </tr>\n",
       "    <tr>\n",
       "      <th>61</th>\n",
       "      <td>0</td>\n",
       "      <td>0</td>\n",
       "    </tr>\n",
       "    <tr>\n",
       "      <th>76</th>\n",
       "      <td>1</td>\n",
       "      <td>1</td>\n",
       "    </tr>\n",
       "    <tr>\n",
       "      <th>90</th>\n",
       "      <td>1</td>\n",
       "      <td>1</td>\n",
       "    </tr>\n",
       "    <tr>\n",
       "      <th>27</th>\n",
       "      <td>1</td>\n",
       "      <td>0</td>\n",
       "    </tr>\n",
       "    <tr>\n",
       "      <th>86</th>\n",
       "      <td>0</td>\n",
       "      <td>0</td>\n",
       "    </tr>\n",
       "    <tr>\n",
       "      <th>28</th>\n",
       "      <td>0</td>\n",
       "      <td>0</td>\n",
       "    </tr>\n",
       "    <tr>\n",
       "      <th>69</th>\n",
       "      <td>1</td>\n",
       "      <td>1</td>\n",
       "    </tr>\n",
       "    <tr>\n",
       "      <th>72</th>\n",
       "      <td>1</td>\n",
       "      <td>1</td>\n",
       "    </tr>\n",
       "    <tr>\n",
       "      <th>35</th>\n",
       "      <td>0</td>\n",
       "      <td>0</td>\n",
       "    </tr>\n",
       "    <tr>\n",
       "      <th>31</th>\n",
       "      <td>1</td>\n",
       "      <td>1</td>\n",
       "    </tr>\n",
       "    <tr>\n",
       "      <th>91</th>\n",
       "      <td>1</td>\n",
       "      <td>1</td>\n",
       "    </tr>\n",
       "    <tr>\n",
       "      <th>43</th>\n",
       "      <td>1</td>\n",
       "      <td>0</td>\n",
       "    </tr>\n",
       "    <tr>\n",
       "      <th>52</th>\n",
       "      <td>1</td>\n",
       "      <td>1</td>\n",
       "    </tr>\n",
       "    <tr>\n",
       "      <th>14</th>\n",
       "      <td>0</td>\n",
       "      <td>0</td>\n",
       "    </tr>\n",
       "    <tr>\n",
       "      <th>87</th>\n",
       "      <td>1</td>\n",
       "      <td>1</td>\n",
       "    </tr>\n",
       "    <tr>\n",
       "      <th>51</th>\n",
       "      <td>1</td>\n",
       "      <td>1</td>\n",
       "    </tr>\n",
       "    <tr>\n",
       "      <th>41</th>\n",
       "      <td>0</td>\n",
       "      <td>0</td>\n",
       "    </tr>\n",
       "    <tr>\n",
       "      <th>67</th>\n",
       "      <td>0</td>\n",
       "      <td>0</td>\n",
       "    </tr>\n",
       "    <tr>\n",
       "      <th>13</th>\n",
       "      <td>1</td>\n",
       "      <td>1</td>\n",
       "    </tr>\n",
       "    <tr>\n",
       "      <th>77</th>\n",
       "      <td>1</td>\n",
       "      <td>1</td>\n",
       "    </tr>\n",
       "    <tr>\n",
       "      <th>66</th>\n",
       "      <td>1</td>\n",
       "      <td>1</td>\n",
       "    </tr>\n",
       "    <tr>\n",
       "      <th>25</th>\n",
       "      <td>1</td>\n",
       "      <td>1</td>\n",
       "    </tr>\n",
       "    <tr>\n",
       "      <th>84</th>\n",
       "      <td>1</td>\n",
       "      <td>1</td>\n",
       "    </tr>\n",
       "    <tr>\n",
       "      <th>78</th>\n",
       "      <td>0</td>\n",
       "      <td>0</td>\n",
       "    </tr>\n",
       "    <tr>\n",
       "      <th>50</th>\n",
       "      <td>1</td>\n",
       "      <td>1</td>\n",
       "    </tr>\n",
       "    <tr>\n",
       "      <th>55</th>\n",
       "      <td>0</td>\n",
       "      <td>0</td>\n",
       "    </tr>\n",
       "    <tr>\n",
       "      <th>60</th>\n",
       "      <td>1</td>\n",
       "      <td>1</td>\n",
       "    </tr>\n",
       "    <tr>\n",
       "      <th>80</th>\n",
       "      <td>1</td>\n",
       "      <td>1</td>\n",
       "    </tr>\n",
       "    <tr>\n",
       "      <th>17</th>\n",
       "      <td>0</td>\n",
       "      <td>0</td>\n",
       "    </tr>\n",
       "    <tr>\n",
       "      <th>58</th>\n",
       "      <td>1</td>\n",
       "      <td>1</td>\n",
       "    </tr>\n",
       "    <tr>\n",
       "      <th>95</th>\n",
       "      <td>1</td>\n",
       "      <td>1</td>\n",
       "    </tr>\n",
       "    <tr>\n",
       "      <th>70</th>\n",
       "      <td>0</td>\n",
       "      <td>0</td>\n",
       "    </tr>\n",
       "    <tr>\n",
       "      <th>47</th>\n",
       "      <td>1</td>\n",
       "      <td>1</td>\n",
       "    </tr>\n",
       "    <tr>\n",
       "      <th>0</th>\n",
       "      <td>0</td>\n",
       "      <td>0</td>\n",
       "    </tr>\n",
       "    <tr>\n",
       "      <th>82</th>\n",
       "      <td>1</td>\n",
       "      <td>1</td>\n",
       "    </tr>\n",
       "    <tr>\n",
       "      <th>7</th>\n",
       "      <td>0</td>\n",
       "      <td>1</td>\n",
       "    </tr>\n",
       "    <tr>\n",
       "      <th>5</th>\n",
       "      <td>0</td>\n",
       "      <td>0</td>\n",
       "    </tr>\n",
       "    <tr>\n",
       "      <th>83</th>\n",
       "      <td>0</td>\n",
       "      <td>1</td>\n",
       "    </tr>\n",
       "    <tr>\n",
       "      <th>54</th>\n",
       "      <td>0</td>\n",
       "      <td>0</td>\n",
       "    </tr>\n",
       "    <tr>\n",
       "      <th>11</th>\n",
       "      <td>0</td>\n",
       "      <td>0</td>\n",
       "    </tr>\n",
       "    <tr>\n",
       "      <th>21</th>\n",
       "      <td>1</td>\n",
       "      <td>1</td>\n",
       "    </tr>\n",
       "    <tr>\n",
       "      <th>12</th>\n",
       "      <td>1</td>\n",
       "      <td>1</td>\n",
       "    </tr>\n",
       "    <tr>\n",
       "      <th>34</th>\n",
       "      <td>0</td>\n",
       "      <td>0</td>\n",
       "    </tr>\n",
       "    <tr>\n",
       "      <th>49</th>\n",
       "      <td>1</td>\n",
       "      <td>1</td>\n",
       "    </tr>\n",
       "    <tr>\n",
       "      <th>89</th>\n",
       "      <td>0</td>\n",
       "      <td>0</td>\n",
       "    </tr>\n",
       "    <tr>\n",
       "      <th>4</th>\n",
       "      <td>1</td>\n",
       "      <td>1</td>\n",
       "    </tr>\n",
       "    <tr>\n",
       "      <th>98</th>\n",
       "      <td>0</td>\n",
       "      <td>1</td>\n",
       "    </tr>\n",
       "  </tbody>\n",
       "</table>\n",
       "</div>"
      ],
      "text/plain": [
       "    0  1\n",
       "37  1  1\n",
       "81  1  1\n",
       "39  0  0\n",
       "61  0  0\n",
       "76  1  1\n",
       "90  1  1\n",
       "27  1  0\n",
       "86  0  0\n",
       "28  0  0\n",
       "69  1  1\n",
       "72  1  1\n",
       "35  0  0\n",
       "31  1  1\n",
       "91  1  1\n",
       "43  1  0\n",
       "52  1  1\n",
       "14  0  0\n",
       "87  1  1\n",
       "51  1  1\n",
       "41  0  0\n",
       "67  0  0\n",
       "13  1  1\n",
       "77  1  1\n",
       "66  1  1\n",
       "25  1  1\n",
       "84  1  1\n",
       "78  0  0\n",
       "50  1  1\n",
       "55  0  0\n",
       "60  1  1\n",
       "80  1  1\n",
       "17  0  0\n",
       "58  1  1\n",
       "95  1  1\n",
       "70  0  0\n",
       "47  1  1\n",
       "0   0  0\n",
       "82  1  1\n",
       "7   0  1\n",
       "5   0  0\n",
       "83  0  1\n",
       "54  0  0\n",
       "11  0  0\n",
       "21  1  1\n",
       "12  1  1\n",
       "34  0  0\n",
       "49  1  1\n",
       "89  0  0\n",
       "4   1  1\n",
       "98  0  1"
      ]
     },
     "execution_count": 24,
     "metadata": {},
     "output_type": "execute_result"
    }
   ],
   "source": [
    "pd.DataFrame(np.c_[predict(theta, X), y]).sample(\n",
    "frac = 50/100, random_state = 65)\n",
    "# Seems to do well on the samples "
   ]
  },
  {
   "cell_type": "code",
   "execution_count": 25,
   "metadata": {},
   "outputs": [
    {
     "data": {
      "text/plain": [
       "0.89000000000000001"
      ]
     },
     "execution_count": 25,
     "metadata": {},
     "output_type": "execute_result"
    }
   ],
   "source": [
    "y_pred = np.array(predict(theta, X)).reshape(100,1)\n",
    "acc = np.sum((y_pred == y).astype(np.int64))/len(y)\n",
    "acc"
   ]
  },
  {
   "cell_type": "markdown",
   "metadata": {},
   "source": [
    "Our logistic regression classifier correctly predicted if a student was admitted or not 89% of the time. \n",
    "Not bad! \n",
    "Keep in mind that this is a training set accuracy thoguh, we did not keep a hold-out set or use cross validation to get a true approximation of the accuracy so this number is likely higher than its true performance. \n"
   ]
  },
  {
   "cell_type": "code",
   "execution_count": 26,
   "metadata": {},
   "outputs": [
    {
     "data": {
      "text/plain": [
       "(19.458222275425072, 65.644274057323145, 30.05882244669796, 99.827857796921279)"
      ]
     },
     "execution_count": 26,
     "metadata": {},
     "output_type": "execute_result"
    }
   ],
   "source": [
    "data[\"Exam1\"].std(), data[\"Exam1\"].mean(),  data[\"Exam1\"].min(),  data[\"Exam1\"].max()"
   ]
  },
  {
   "cell_type": "code",
   "execution_count": 27,
   "metadata": {},
   "outputs": [
    {
     "data": {
      "text/plain": [
       "(20.445493022505385,\n",
       " 64.939808946133596,\n",
       " 29.879549515567994,\n",
       " 100.00006837669918)"
      ]
     },
     "execution_count": 27,
     "metadata": {},
     "output_type": "execute_result"
    }
   ],
   "source": [
    "x1 = np.linspace(X[:,1].min(), X[:,1].max(), len(X))\n",
    "# Unscaling the features x1 for visualisations\n",
    "x1_scaled = (x1*data[\"Exam1\"].std()) + data[\"Exam1\"].mean()\n",
    "x1_scaled.std(), x1_scaled.mean(), x1_scaled.min(), x1_scaled.max()"
   ]
  },
  {
   "cell_type": "code",
   "execution_count": 28,
   "metadata": {},
   "outputs": [
    {
     "data": {
      "text/plain": [
       "array([[ 1.71671348,  3.98908079,  3.72154954]])"
      ]
     },
     "execution_count": 28,
     "metadata": {},
     "output_type": "execute_result"
    }
   ],
   "source": [
    "theta"
   ]
  },
  {
   "cell_type": "code",
   "execution_count": 29,
   "metadata": {
    "collapsed": true
   },
   "outputs": [],
   "source": [
    "x0 = np.ones(len(X))"
   ]
  },
  {
   "cell_type": "code",
   "execution_count": 30,
   "metadata": {},
   "outputs": [
    {
     "data": {
      "text/plain": [
       "(18.582783039307344, 66.221998088116948, 30.60326323428011, 98.869435742206122)"
      ]
     },
     "execution_count": 30,
     "metadata": {},
     "output_type": "execute_result"
    }
   ],
   "source": [
    "data[\"Exam2\"].std(), data[\"Exam2\"].mean(),  data[\"Exam2\"].min(),  data[\"Exam2\"].max()"
   ]
  },
  {
   "cell_type": "markdown",
   "metadata": {},
   "source": [
    "# Finding values of x2 where z = 0 "
   ]
  },
  {
   "cell_type": "code",
   "execution_count": 31,
   "metadata": {},
   "outputs": [
    {
     "data": {
      "text/plain": [
       "(20.929276261099684, 58.371080863170185, 22.48122217400001, 94.260939552340346)"
      ]
     },
     "execution_count": 31,
     "metadata": {},
     "output_type": "execute_result"
    }
   ],
   "source": [
    "x2 = (- theta[0][0]*x0 - theta[0][1]*x1)/theta[0][2]\n",
    "# The aboe thetas were for the scaled values, that is why\n",
    "# x2 is used. Not x1_scaled. \n",
    "# Converting x2 back to its scaled version and confirming\n",
    "# if the scaled versions std, mean, min, max is similar to \n",
    "# the orginal x2's. \n",
    "x2_scaled = (x2*data[\"Exam2\"].std()) + data[\"Exam2\"].mean()\n",
    "x2_scaled.std(), x2_scaled.mean(), x2_scaled.min(), x2_scaled.max()"
   ]
  },
  {
   "cell_type": "code",
   "execution_count": 32,
   "metadata": {},
   "outputs": [
    {
     "data": {
      "text/plain": [
       "<matplotlib.legend.Legend at 0x1193a4a20>"
      ]
     },
     "execution_count": 32,
     "metadata": {},
     "output_type": "execute_result"
    },
    {
     "data": {
      "image/png": "[encoded data removed]",
      "text/plain": [
       "<matplotlib.figure.Figure at 0x116469278>"
      ]
     },
     "metadata": {},
     "output_type": "display_data"
    }
   ],
   "source": [
    "positive = data[data[\"Admitted\"]==1]\n",
    "negative = data[data[\"Admitted\"]==0]\n",
    "\n",
    "plt.figure(figsize = (12,8))\n",
    "plt.scatter(positive['Exam1'], positive[\"Exam2\"],\n",
    "           s = 60, marker = \"o\", label = \"Admitted\",\n",
    "           alpha = 1, c =\"b\")\n",
    "plt.scatter(negative[\"Exam1\"], negative[\"Exam2\"],\n",
    "           s = 60, marker = \"x\", label = \"Not Admitted\",\n",
    "           alpha = 1, c = 'r')\n",
    "plt.plot(x1_scaled, x2_scaled, \"r--\")\n",
    "plt.xlabel(\"Exam 1 Score\", fontsize = 25)\n",
    "plt.ylabel(\"Exam 2 Score\", rotation = 0, fontsize = 25,\n",
    "          ha = \"right\")\n",
    "plt.legend(fontsize = 18)\n"
   ]
  },
  {
   "cell_type": "markdown",
   "metadata": {},
   "source": [
    "# Doing the same in Sklearn, gives the same accuracy and almost same decision boundary. "
   ]
  },
  {
   "cell_type": "code",
   "execution_count": 33,
   "metadata": {},
   "outputs": [
    {
     "data": {
      "text/plain": [
       "LogisticRegression(C=1.0, class_weight=None, dual=False, fit_intercept=True,\n",
       "          intercept_scaling=1, max_iter=100, multi_class='ovr', n_jobs=1,\n",
       "          penalty='l2', random_state=None, solver='liblinear', tol=0.0001,\n",
       "          verbose=0, warm_start=False)"
      ]
     },
     "execution_count": 33,
     "metadata": {},
     "output_type": "execute_result"
    }
   ],
   "source": [
    "from sklearn.linear_model import LogisticRegression\n",
    "\n",
    "log_reg = LogisticRegression()\n",
    "log_reg.fit(X,y.ravel())"
   ]
  },
  {
   "cell_type": "code",
   "execution_count": 34,
   "metadata": {},
   "outputs": [
    {
     "data": {
      "text/plain": [
       "array([[ 0.47300306,  2.25852447,  2.06417755]])"
      ]
     },
     "execution_count": 34,
     "metadata": {},
     "output_type": "execute_result"
    }
   ],
   "source": [
    "log_reg.coef_"
   ]
  },
  {
   "cell_type": "code",
   "execution_count": 35,
   "metadata": {
    "collapsed": true
   },
   "outputs": [],
   "source": [
    "theta = log_reg.coef_"
   ]
  },
  {
   "cell_type": "code",
   "execution_count": 36,
   "metadata": {},
   "outputs": [
    {
     "data": {
      "text/plain": [
       "(21.36401793031877, 62.699896026013356, 26.064535348149604, 99.335256703877093)"
      ]
     },
     "execution_count": 36,
     "metadata": {},
     "output_type": "execute_result"
    }
   ],
   "source": [
    "# Finding the x2's according to new theta parameters: \n",
    "x2 = (- theta[0][0]*x0 - theta[0][1]*x1)/theta[0][2]\n",
    "# The aboe thetas were for the scaled values, that is why\n",
    "# x2 is used. Not x1_scaled. \n",
    "# Converting x2 back to its scaled version and confirming\n",
    "# if the scaled versions std, mean, min, max is similar to \n",
    "# the orginal x2's. \n",
    "x2_scaled = (x2*data[\"Exam2\"].std()) + data[\"Exam2\"].mean()\n",
    "x2_scaled.std(), x2_scaled.mean(), x2_scaled.min(), x2_scaled.max()"
   ]
  },
  {
   "cell_type": "code",
   "execution_count": 37,
   "metadata": {},
   "outputs": [
    {
     "data": {
      "text/plain": [
       "<matplotlib.legend.Legend at 0x11b702f98>"
      ]
     },
     "execution_count": 37,
     "metadata": {},
     "output_type": "execute_result"
    },
    {
     "data": {
      "image/png": "[encoded data removed]",
      "text/plain": [
       "<matplotlib.figure.Figure at 0x116469978>"
      ]
     },
     "metadata": {},
     "output_type": "display_data"
    }
   ],
   "source": [
    "positive = data[data[\"Admitted\"]==1]\n",
    "negative = data[data[\"Admitted\"]==0]\n",
    "\n",
    "plt.figure(figsize = (12,8))\n",
    "plt.scatter(positive['Exam1'], positive[\"Exam2\"],\n",
    "           s = 60, marker = \"o\", label = \"Admitted\",\n",
    "           alpha = 1, c =\"b\")\n",
    "plt.scatter(negative[\"Exam1\"], negative[\"Exam2\"],\n",
    "           s = 60, marker = \"x\", label = \"Not Admitted\",\n",
    "           alpha = 1, c = 'r')\n",
    "plt.plot(x1_scaled, x2_scaled, \"r--\")\n",
    "plt.xlabel(\"Exam 1 Score\", fontsize = 25)\n",
    "plt.ylabel(\"Exam 2 Score\", rotation = 0, fontsize = 25,\n",
    "          ha = \"right\")\n",
    "plt.legend(fontsize = 18)"
   ]
  },
  {
   "cell_type": "code",
   "execution_count": 38,
   "metadata": {},
   "outputs": [
    {
     "data": {
      "text/plain": [
       "0.89000000000000001"
      ]
     },
     "execution_count": 38,
     "metadata": {},
     "output_type": "execute_result"
    }
   ],
   "source": [
    "y_pred = np.array(predict(theta, X)).reshape(100,1)\n",
    "acc = np.sum((y_pred == y).astype(np.int64))/len(y)\n",
    "acc"
   ]
  },
  {
   "cell_type": "code",
   "execution_count": 382,
   "metadata": {},
   "outputs": [
    {
     "data": {
      "text/html": [
       "<div>\n",
       "<style>\n",
       "    .dataframe thead tr:only-child th {\n",
       "        text-align: right;\n",
       "    }\n",
       "\n",
       "    .dataframe thead th {\n",
       "        text-align: left;\n",
       "    }\n",
       "\n",
       "    .dataframe tbody tr th {\n",
       "        vertical-align: top;\n",
       "    }\n",
       "</style>\n",
       "<table border=\"1\" class=\"dataframe\">\n",
       "  <thead>\n",
       "    <tr style=\"text-align: right;\">\n",
       "      <th></th>\n",
       "      <th>Test1</th>\n",
       "      <th>Test2</th>\n",
       "      <th>Accepted</th>\n",
       "    </tr>\n",
       "  </thead>\n",
       "  <tbody>\n",
       "    <tr>\n",
       "      <th>0</th>\n",
       "      <td>0.051267</td>\n",
       "      <td>0.69956</td>\n",
       "      <td>1</td>\n",
       "    </tr>\n",
       "    <tr>\n",
       "      <th>1</th>\n",
       "      <td>-0.092742</td>\n",
       "      <td>0.68494</td>\n",
       "      <td>1</td>\n",
       "    </tr>\n",
       "    <tr>\n",
       "      <th>2</th>\n",
       "      <td>-0.213710</td>\n",
       "      <td>0.69225</td>\n",
       "      <td>1</td>\n",
       "    </tr>\n",
       "    <tr>\n",
       "      <th>3</th>\n",
       "      <td>-0.375000</td>\n",
       "      <td>0.50219</td>\n",
       "      <td>1</td>\n",
       "    </tr>\n",
       "    <tr>\n",
       "      <th>4</th>\n",
       "      <td>-0.513250</td>\n",
       "      <td>0.46564</td>\n",
       "      <td>1</td>\n",
       "    </tr>\n",
       "  </tbody>\n",
       "</table>\n",
       "</div>"
      ],
      "text/plain": [
       "      Test1    Test2  Accepted\n",
       "0  0.051267  0.69956         1\n",
       "1 -0.092742  0.68494         1\n",
       "2 -0.213710  0.69225         1\n",
       "3 -0.375000  0.50219         1\n",
       "4 -0.513250  0.46564         1"
      ]
     },
     "execution_count": 382,
     "metadata": {},
     "output_type": "execute_result"
    }
   ],
   "source": [
    "path = os.path.join(os.getcwd(), \"data\", \"ex2data2.txt\")\n",
    "data2 = pd.read_csv(path, header = None, names = [\"Test1\",\n",
    "                                                 \"Test2\",\n",
    "                                                 \"Accepted\"])\n",
    "pd.DataFrame(data2).head()"
   ]
  },
  {
   "cell_type": "code",
   "execution_count": 383,
   "metadata": {},
   "outputs": [],
   "source": [
    "# degree = 2\n",
    "# x1 = data2[\"Test1\"]\n",
    "# x2 = data2[\"Test2\"]\n",
    "\n",
    "# for i in range(1, degree):\n",
    "#     for j in range(0, i):\n",
    "#         data2['F' + str(i) + str(j)] = np.power(x1, i-j) * np.power(x2, j)\n",
    "\n",
    "# data2.drop(\"Test1\",axis = 1, inplace = True)\n",
    "# data2.drop(\"Test2\", axis = 1, inplace = True)\n",
    "\n",
    "# data2.head()\n",
    "\n",
    "# Accepted\tF10\n",
    "# 0\t1\t0.051267\n",
    "# 1\t1\t-0.092742\n",
    "# 2\t1\t-0.213710\n",
    "# 3\t1\t-0.375000\n",
    "# 4\t1\t-0.513250"
   ]
  },
  {
   "cell_type": "code",
   "execution_count": 384,
   "metadata": {},
   "outputs": [
    {
     "data": {
      "text/plain": [
       "[<matplotlib.lines.Line2D at 0x11f7b67b8>]"
      ]
     },
     "execution_count": 384,
     "metadata": {},
     "output_type": "execute_result"
    },
    {
     "data": {
      "image/png": "[encoded data removed]",
      "text/plain": [
       "<matplotlib.figure.Figure at 0x11f7b66d8>"
      ]
     },
     "metadata": {},
     "output_type": "display_data"
    }
   ],
   "source": [
    "plt.plot(data2[\"Test1\"][data2[\"Accepted\"]==1], data2[\"Test2\"][data2[\"Accepted\"]==1], \"b.\" )\n",
    "plt.plot(data2[\"Test1\"][data2[\"Accepted\"]==0], data2[\"Test2\"][data2[\"Accepted\"]==0], \"rx\" )\n"
   ]
  },
  {
   "cell_type": "markdown",
   "metadata": {},
   "source": [
    "# Manual Polynomial Features: "
   ]
  },
  {
   "cell_type": "code",
   "execution_count": 385,
   "metadata": {},
   "outputs": [
    {
     "data": {
      "text/html": [
       "<div>\n",
       "<style>\n",
       "    .dataframe thead tr:only-child th {\n",
       "        text-align: right;\n",
       "    }\n",
       "\n",
       "    .dataframe thead th {\n",
       "        text-align: left;\n",
       "    }\n",
       "\n",
       "    .dataframe tbody tr th {\n",
       "        vertical-align: top;\n",
       "    }\n",
       "</style>\n",
       "<table border=\"1\" class=\"dataframe\">\n",
       "  <thead>\n",
       "    <tr style=\"text-align: right;\">\n",
       "      <th></th>\n",
       "      <th>Accepted</th>\n",
       "      <th>F00</th>\n",
       "      <th>F10</th>\n",
       "      <th>F20</th>\n",
       "      <th>F01</th>\n",
       "      <th>F11</th>\n",
       "      <th>F21</th>\n",
       "      <th>F02</th>\n",
       "      <th>F12</th>\n",
       "      <th>F22</th>\n",
       "    </tr>\n",
       "  </thead>\n",
       "  <tbody>\n",
       "    <tr>\n",
       "      <th>0</th>\n",
       "      <td>1</td>\n",
       "      <td>1.0</td>\n",
       "      <td>0.051267</td>\n",
       "      <td>0.002628</td>\n",
       "      <td>0.69956</td>\n",
       "      <td>0.035864</td>\n",
       "      <td>0.001839</td>\n",
       "      <td>0.489384</td>\n",
       "      <td>0.025089</td>\n",
       "      <td>0.001286</td>\n",
       "    </tr>\n",
       "    <tr>\n",
       "      <th>1</th>\n",
       "      <td>1</td>\n",
       "      <td>1.0</td>\n",
       "      <td>-0.092742</td>\n",
       "      <td>0.008601</td>\n",
       "      <td>0.68494</td>\n",
       "      <td>-0.063523</td>\n",
       "      <td>0.005891</td>\n",
       "      <td>0.469143</td>\n",
       "      <td>-0.043509</td>\n",
       "      <td>0.004035</td>\n",
       "    </tr>\n",
       "    <tr>\n",
       "      <th>2</th>\n",
       "      <td>1</td>\n",
       "      <td>1.0</td>\n",
       "      <td>-0.213710</td>\n",
       "      <td>0.045672</td>\n",
       "      <td>0.69225</td>\n",
       "      <td>-0.147941</td>\n",
       "      <td>0.031616</td>\n",
       "      <td>0.479210</td>\n",
       "      <td>-0.102412</td>\n",
       "      <td>0.021886</td>\n",
       "    </tr>\n",
       "    <tr>\n",
       "      <th>3</th>\n",
       "      <td>1</td>\n",
       "      <td>1.0</td>\n",
       "      <td>-0.375000</td>\n",
       "      <td>0.140625</td>\n",
       "      <td>0.50219</td>\n",
       "      <td>-0.188321</td>\n",
       "      <td>0.070620</td>\n",
       "      <td>0.252195</td>\n",
       "      <td>-0.094573</td>\n",
       "      <td>0.035465</td>\n",
       "    </tr>\n",
       "    <tr>\n",
       "      <th>4</th>\n",
       "      <td>1</td>\n",
       "      <td>1.0</td>\n",
       "      <td>-0.513250</td>\n",
       "      <td>0.263426</td>\n",
       "      <td>0.46564</td>\n",
       "      <td>-0.238990</td>\n",
       "      <td>0.122661</td>\n",
       "      <td>0.216821</td>\n",
       "      <td>-0.111283</td>\n",
       "      <td>0.057116</td>\n",
       "    </tr>\n",
       "  </tbody>\n",
       "</table>\n",
       "</div>"
      ],
      "text/plain": [
       "   Accepted  F00       F10       F20      F01       F11       F21       F02  \\\n",
       "0         1  1.0  0.051267  0.002628  0.69956  0.035864  0.001839  0.489384   \n",
       "1         1  1.0 -0.092742  0.008601  0.68494 -0.063523  0.005891  0.469143   \n",
       "2         1  1.0 -0.213710  0.045672  0.69225 -0.147941  0.031616  0.479210   \n",
       "3         1  1.0 -0.375000  0.140625  0.50219 -0.188321  0.070620  0.252195   \n",
       "4         1  1.0 -0.513250  0.263426  0.46564 -0.238990  0.122661  0.216821   \n",
       "\n",
       "        F12       F22  \n",
       "0  0.025089  0.001286  \n",
       "1 -0.043509  0.004035  \n",
       "2 -0.102412  0.021886  \n",
       "3 -0.094573  0.035465  \n",
       "4 -0.111283  0.057116  "
      ]
     },
     "execution_count": 385,
     "metadata": {},
     "output_type": "execute_result"
    }
   ],
   "source": [
    "degree = 2\n",
    "x1 = data2[\"Test1\"]\n",
    "x2 = data2[\"Test2\"]\n",
    "\n",
    "for d1 in range(degree + 1):\n",
    "    for d2 in range(degree + 1):\n",
    "        data2[\"F\" + str(d2) + str(d1)] = np.multiply(\n",
    "            (x1**d2),(x2**d1))\n",
    "\n",
    "\n",
    "data2.drop(\"Test1\",axis = 1, inplace = True)\n",
    "data2.drop(\"Test2\", axis = 1, inplace = True)\n",
    "\n",
    "data2.head()"
   ]
  },
  {
   "cell_type": "markdown",
   "metadata": {},
   "source": [
    "# Regularized Cost Function For Logistic Regression:   \n",
    "\n",
    "#### $ -\\frac{1}{m}\\sum_{i=1}^m y^ilog(\\frac{1}{1 + e^{\\theta^T.x^i}}) - (1 - y^i)log(1 - \\frac{1}{1 + e^{\\theta^T.x^i}}) + \\frac{\\lambda}{2m}\\sum_{j=1}^m \\theta_j^2$"
   ]
  },
  {
   "cell_type": "code",
   "execution_count": 386,
   "metadata": {},
   "outputs": [
    {
     "data": {
      "text/html": [
       "<div>\n",
       "<style>\n",
       "    .dataframe thead tr:only-child th {\n",
       "        text-align: right;\n",
       "    }\n",
       "\n",
       "    .dataframe thead th {\n",
       "        text-align: left;\n",
       "    }\n",
       "\n",
       "    .dataframe tbody tr th {\n",
       "        vertical-align: top;\n",
       "    }\n",
       "</style>\n",
       "<table border=\"1\" class=\"dataframe\">\n",
       "  <thead>\n",
       "    <tr style=\"text-align: right;\">\n",
       "      <th></th>\n",
       "      <th>0</th>\n",
       "      <th>1</th>\n",
       "      <th>2</th>\n",
       "      <th>3</th>\n",
       "      <th>4</th>\n",
       "      <th>5</th>\n",
       "      <th>6</th>\n",
       "      <th>7</th>\n",
       "      <th>8</th>\n",
       "    </tr>\n",
       "  </thead>\n",
       "  <tbody>\n",
       "    <tr>\n",
       "      <th>0</th>\n",
       "      <td>1.0</td>\n",
       "      <td>0.051267</td>\n",
       "      <td>0.002628</td>\n",
       "      <td>0.69956</td>\n",
       "      <td>0.035864</td>\n",
       "      <td>0.001839</td>\n",
       "      <td>0.489384</td>\n",
       "      <td>0.025089</td>\n",
       "      <td>0.001286</td>\n",
       "    </tr>\n",
       "    <tr>\n",
       "      <th>1</th>\n",
       "      <td>1.0</td>\n",
       "      <td>-0.092742</td>\n",
       "      <td>0.008601</td>\n",
       "      <td>0.68494</td>\n",
       "      <td>-0.063523</td>\n",
       "      <td>0.005891</td>\n",
       "      <td>0.469143</td>\n",
       "      <td>-0.043509</td>\n",
       "      <td>0.004035</td>\n",
       "    </tr>\n",
       "    <tr>\n",
       "      <th>2</th>\n",
       "      <td>1.0</td>\n",
       "      <td>-0.213710</td>\n",
       "      <td>0.045672</td>\n",
       "      <td>0.69225</td>\n",
       "      <td>-0.147941</td>\n",
       "      <td>0.031616</td>\n",
       "      <td>0.479210</td>\n",
       "      <td>-0.102412</td>\n",
       "      <td>0.021886</td>\n",
       "    </tr>\n",
       "    <tr>\n",
       "      <th>3</th>\n",
       "      <td>1.0</td>\n",
       "      <td>-0.375000</td>\n",
       "      <td>0.140625</td>\n",
       "      <td>0.50219</td>\n",
       "      <td>-0.188321</td>\n",
       "      <td>0.070620</td>\n",
       "      <td>0.252195</td>\n",
       "      <td>-0.094573</td>\n",
       "      <td>0.035465</td>\n",
       "    </tr>\n",
       "    <tr>\n",
       "      <th>4</th>\n",
       "      <td>1.0</td>\n",
       "      <td>-0.513250</td>\n",
       "      <td>0.263426</td>\n",
       "      <td>0.46564</td>\n",
       "      <td>-0.238990</td>\n",
       "      <td>0.122661</td>\n",
       "      <td>0.216821</td>\n",
       "      <td>-0.111283</td>\n",
       "      <td>0.057116</td>\n",
       "    </tr>\n",
       "  </tbody>\n",
       "</table>\n",
       "</div>"
      ],
      "text/plain": [
       "     0         1         2        3         4         5         6         7  \\\n",
       "0  1.0  0.051267  0.002628  0.69956  0.035864  0.001839  0.489384  0.025089   \n",
       "1  1.0 -0.092742  0.008601  0.68494 -0.063523  0.005891  0.469143 -0.043509   \n",
       "2  1.0 -0.213710  0.045672  0.69225 -0.147941  0.031616  0.479210 -0.102412   \n",
       "3  1.0 -0.375000  0.140625  0.50219 -0.188321  0.070620  0.252195 -0.094573   \n",
       "4  1.0 -0.513250  0.263426  0.46564 -0.238990  0.122661  0.216821 -0.111283   \n",
       "\n",
       "          8  \n",
       "0  0.001286  \n",
       "1  0.004035  \n",
       "2  0.021886  \n",
       "3  0.035465  \n",
       "4  0.057116  "
      ]
     },
     "execution_count": 386,
     "metadata": {},
     "output_type": "execute_result"
    }
   ],
   "source": [
    "X = data2.iloc[:,1:].values\n",
    "pd.DataFrame(X).head()"
   ]
  },
  {
   "cell_type": "code",
   "execution_count": 387,
   "metadata": {},
   "outputs": [
    {
     "data": {
      "text/plain": [
       "(118, 1)"
      ]
     },
     "execution_count": 387,
     "metadata": {},
     "output_type": "execute_result"
    }
   ],
   "source": [
    "y = data2.iloc[:,0].values.reshape(-1,1)\n",
    "y.shape"
   ]
  },
  {
   "cell_type": "code",
   "execution_count": 388,
   "metadata": {},
   "outputs": [
    {
     "data": {
      "text/plain": [
       "array([[ 0.,  0.,  0.,  0.,  0.,  0.,  0.,  0.,  0.]])"
      ]
     },
     "execution_count": 388,
     "metadata": {},
     "output_type": "execute_result"
    }
   ],
   "source": [
    "theta = np.zeros((1,9))\n",
    "theta"
   ]
  },
  {
   "cell_type": "code",
   "execution_count": 389,
   "metadata": {},
   "outputs": [
    {
     "name": "stdout",
     "output_type": "stream",
     "text": [
      "14\n"
     ]
    },
    {
     "data": {
      "text/plain": [
       "array([[2, 3]])"
      ]
     },
     "execution_count": 389,
     "metadata": {},
     "output_type": "execute_result"
    }
   ],
   "source": [
    "sample = np.array([1,2,3]).reshape(1,3)\n",
    "print(np.sum(sample**2))\n",
    "sample[:,1:]"
   ]
  },
  {
   "cell_type": "code",
   "execution_count": 390,
   "metadata": {
    "collapsed": true
   },
   "outputs": [],
   "source": [
    "def RegCost(X, y, theta, lamb_da):\n",
    "    m = len(X)\n",
    "    z = X.dot(theta.T)\n",
    "    g_z = sigmoid(z).reshape(-1,1)\n",
    "    g_z.shape\n",
    "    term1 = -y*(np.log(g_z))\n",
    "    # pd.DataFrame(np.c_[term1,y]).sample(frac = 4/118, random_state = 65)\n",
    "    term2 = (1 - y)*(np.log(1 - g_z))\n",
    "    # pd.DataFrame(np.c_[term2,y]).sample(frac = 4/118, random_state = 65)\n",
    "    reg_term = (lamb_da/(2*m))*np.sum(theta[:,1:]**2)\n",
    "    # don't penalise theta_0\n",
    "    cost = np.sum(term1 - term2)/m + reg_term\n",
    "    return cost"
   ]
  },
  {
   "cell_type": "code",
   "execution_count": 391,
   "metadata": {
    "collapsed": true
   },
   "outputs": [],
   "source": [
    "def gradientDescent(X,y, theta, eta, iters, lamb_da):\n",
    "    error_list = []\n",
    "    m = len(X)\n",
    "    for i in range(iters):\n",
    "        # Calculate decision_scores \n",
    "        z = X.dot(theta.T)\n",
    "        # >> (118,1) array of decision scores,\n",
    "        # one for each instance.\n",
    "        \n",
    "        # Calcuate activation\n",
    "        g_z = sigmoid(z)\n",
    "        # >> (118,1) array of activation values, \n",
    "        # one for each instance. \n",
    "        \n",
    "        # Calculate Cost\n",
    "        error = RegCost(X, y, theta, lamb_da)\n",
    "        # and append it to the list of errors \n",
    "        error_list.append(error)\n",
    "        \n",
    "        # Multiply error with each x_i^j \n",
    "        # ∑(y^ - y).x_j^i\n",
    "        term = np.sum(np.multiply((g_z - y),X), axis = 0)\n",
    "        # >> (3)\n",
    "        \n",
    "        # Weight Update\n",
    "        theta = theta*(1 - eta*(lamb_da/m)) - (eta/m)*term\n",
    "        \n",
    "    return error_list, theta"
   ]
  },
  {
   "cell_type": "code",
   "execution_count": 392,
   "metadata": {},
   "outputs": [
    {
     "data": {
      "text/plain": [
       "((118, 9), (118, 1), (1, 9))"
      ]
     },
     "execution_count": 392,
     "metadata": {},
     "output_type": "execute_result"
    }
   ],
   "source": [
    "X.shape, y.shape, theta.shape"
   ]
  },
  {
   "cell_type": "code",
   "execution_count": 393,
   "metadata": {},
   "outputs": [],
   "source": [
    "error_list, theta = gradientDescent(X, y, theta, eta = 0.1,\n",
    "                                   iters = 1500, lamb_da = 7)\n"
   ]
  },
  {
   "cell_type": "code",
   "execution_count": 394,
   "metadata": {},
   "outputs": [
    {
     "data": {
      "text/plain": [
       "1500"
      ]
     },
     "execution_count": 394,
     "metadata": {},
     "output_type": "execute_result"
    }
   ],
   "source": [
    "len(error_list)"
   ]
  },
  {
   "cell_type": "code",
   "execution_count": 395,
   "metadata": {},
   "outputs": [
    {
     "data": {
      "text/plain": [
       "[<matplotlib.lines.Line2D at 0x11ea13240>]"
      ]
     },
     "execution_count": 395,
     "metadata": {},
     "output_type": "execute_result"
    },
    {
     "data": {
      "image/png": "[encoded data removed]",
      "text/plain": [
       "<matplotlib.figure.Figure at 0x11e882c50>"
      ]
     },
     "metadata": {},
     "output_type": "display_data"
    }
   ],
   "source": [
    "plt.plot(list(range(1500)), error_list)"
   ]
  },
  {
   "cell_type": "code",
   "execution_count": 396,
   "metadata": {},
   "outputs": [
    {
     "data": {
      "text/plain": [
       "array([[ 0.20462848, -0.06174429, -0.62417043,  0.10242987, -0.16383683,\n",
       "        -0.08978658, -0.4677037 , -0.08003176, -0.16521246]])"
      ]
     },
     "execution_count": 396,
     "metadata": {},
     "output_type": "execute_result"
    }
   ],
   "source": [
    "theta"
   ]
  },
  {
   "cell_type": "code",
   "execution_count": 397,
   "metadata": {},
   "outputs": [
    {
     "data": {
      "text/plain": [
       "((100,), (100,), (100,))"
      ]
     },
     "execution_count": 397,
     "metadata": {},
     "output_type": "execute_result"
    }
   ],
   "source": [
    "x1 = np.linspace(X[:,1].min(),X[:,1].max(), 100)\n",
    "x0 = np.ones(len(x1))\n",
    "x2 = np.linspace(X[:,2].min(),X[:,2].max(), 100)\n",
    "x4 = np.linspace(X[:,4].min(),X[:,4].max(), 100)\n",
    "x5 = np.linspace(X[:,5].min(),X[:,5].max(), 100) \n",
    "x6 = np.linspace(X[:,6].min(),X[:,6].max(), 100)\n",
    "x7 = np.linspace(X[:,7].min(),X[:,7].max(), 100)\n",
    "x8 = np.linspace(X[:,8].min(),X[:,8].max(), 100)\n",
    "\n",
    "x3 = (- theta[0][0]*x0 - theta[0][1]*x1 - theta[0][2]*x2 - theta[0][4]*x4 - theta[0][5]*x5 - theta[0][6]*x6 - theta[0][7]*x7 - theta[0][8]*x8 )/theta[0][3]\n",
    "x0.shape , x1.shape, x3.shape\n"
   ]
  },
  {
   "cell_type": "code",
   "execution_count": 398,
   "metadata": {},
   "outputs": [
    {
     "data": {
      "text/html": [
       "<div>\n",
       "<style>\n",
       "    .dataframe thead tr:only-child th {\n",
       "        text-align: right;\n",
       "    }\n",
       "\n",
       "    .dataframe thead th {\n",
       "        text-align: left;\n",
       "    }\n",
       "\n",
       "    .dataframe tbody tr th {\n",
       "        vertical-align: top;\n",
       "    }\n",
       "</style>\n",
       "<table border=\"1\" class=\"dataframe\">\n",
       "  <thead>\n",
       "    <tr style=\"text-align: right;\">\n",
       "      <th></th>\n",
       "      <th>Test1</th>\n",
       "      <th>Test2</th>\n",
       "      <th>Accepted</th>\n",
       "    </tr>\n",
       "  </thead>\n",
       "  <tbody>\n",
       "    <tr>\n",
       "      <th>0</th>\n",
       "      <td>0.051267</td>\n",
       "      <td>0.69956</td>\n",
       "      <td>1</td>\n",
       "    </tr>\n",
       "    <tr>\n",
       "      <th>1</th>\n",
       "      <td>-0.092742</td>\n",
       "      <td>0.68494</td>\n",
       "      <td>1</td>\n",
       "    </tr>\n",
       "    <tr>\n",
       "      <th>2</th>\n",
       "      <td>-0.213710</td>\n",
       "      <td>0.69225</td>\n",
       "      <td>1</td>\n",
       "    </tr>\n",
       "    <tr>\n",
       "      <th>3</th>\n",
       "      <td>-0.375000</td>\n",
       "      <td>0.50219</td>\n",
       "      <td>1</td>\n",
       "    </tr>\n",
       "    <tr>\n",
       "      <th>4</th>\n",
       "      <td>-0.513250</td>\n",
       "      <td>0.46564</td>\n",
       "      <td>1</td>\n",
       "    </tr>\n",
       "  </tbody>\n",
       "</table>\n",
       "</div>"
      ],
      "text/plain": [
       "      Test1    Test2  Accepted\n",
       "0  0.051267  0.69956         1\n",
       "1 -0.092742  0.68494         1\n",
       "2 -0.213710  0.69225         1\n",
       "3 -0.375000  0.50219         1\n",
       "4 -0.513250  0.46564         1"
      ]
     },
     "execution_count": 398,
     "metadata": {},
     "output_type": "execute_result"
    }
   ],
   "source": [
    "path = os.path.join(os.getcwd(), \"data\", \"ex2data2.txt\")\n",
    "data2 = pd.read_csv(path, header = None, names = [\"Test1\",\n",
    "                                                 \"Test2\",\n",
    "                                                 \"Accepted\"])\n",
    "pd.DataFrame(data2).head()"
   ]
  },
  {
   "cell_type": "code",
   "execution_count": 399,
   "metadata": {},
   "outputs": [
    {
     "data": {
      "text/plain": [
       "[<matplotlib.lines.Line2D at 0x11e25a9b0>]"
      ]
     },
     "execution_count": 399,
     "metadata": {},
     "output_type": "execute_result"
    },
    {
     "data": {
      "image/png": "[encoded data removed]",
      "text/plain": [
       "<matplotlib.figure.Figure at 0x11e32cd30>"
      ]
     },
     "metadata": {},
     "output_type": "display_data"
    }
   ],
   "source": [
    "plt.plot(data2[\"Test1\"][data2[\"Accepted\"]==1], data2[\"Test2\"][data2[\"Accepted\"]==1], \"b.\" )\n",
    "plt.plot(data2[\"Test1\"][data2[\"Accepted\"]==0], data2[\"Test2\"][data2[\"Accepted\"]==0], \"rx\" )\n",
    "plt.plot(x1, x3, \"r--\")"
   ]
  },
  {
   "cell_type": "code",
   "execution_count": 400,
   "metadata": {},
   "outputs": [
    {
     "data": {
      "text/plain": [
       "0.65186887293239615"
      ]
     },
     "execution_count": 400,
     "metadata": {},
     "output_type": "execute_result"
    }
   ],
   "source": [
    "RegCost(X, y, theta, 2.5)"
   ]
  },
  {
   "cell_type": "code",
   "execution_count": 401,
   "metadata": {},
   "outputs": [
    {
     "data": {
      "text/plain": [
       "0.78813559322033899"
      ]
     },
     "execution_count": 401,
     "metadata": {},
     "output_type": "execute_result"
    }
   ],
   "source": [
    "def predict(theta, X):\n",
    "    z  = X.dot(theta.T)\n",
    "    g_z = sigmoid(z)\n",
    "    pred = []\n",
    "    for prob in g_z: \n",
    "        if prob >= 0.5:\n",
    "            pred.append(1)\n",
    "        else:\n",
    "            pred.append(0)\n",
    "    return (pred)\n",
    "\n",
    "y_pred = np.array(predict(theta, X)).reshape(y.shape)\n",
    "acc = np.sum((y_pred == y).astype(np.int64))/len(y)\n",
    "acc"
   ]
  },
  {
   "cell_type": "code",
   "execution_count": null,
   "metadata": {
    "collapsed": true
   },
   "outputs": [],
   "source": []
  }
 ],
 "metadata": {
  "kernelspec": {
   "display_name": "Python 3",
   "language": "python",
   "name": "python3"
  },
  "language_info": {
   "codemirror_mode": {
    "name": "ipython",
    "version": 3
   },
   "file_extension": ".py",
   "mimetype": "text/x-python",
   "name": "python",
   "nbconvert_exporter": "python",
   "pygments_lexer": "ipython3",
   "version": "3.6.1"
  }
 },
 "nbformat": 4,
 "nbformat_minor": 2
}
